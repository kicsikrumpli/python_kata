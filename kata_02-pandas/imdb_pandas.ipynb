{
 "cells": [
  {
   "attachments": {},
   "cell_type": "markdown",
   "metadata": {},
   "source": [
    "# Pandas Basics\n",
    "\n",
    "todo! TOC"
   ]
  },
  {
   "attachments": {},
   "cell_type": "markdown",
   "metadata": {},
   "source": [
    "# Part I\n",
    "## Data Import"
   ]
  },
  {
   "cell_type": "code",
   "execution_count": 57,
   "metadata": {},
   "outputs": [
    {
     "name": "stdout",
     "output_type": "stream",
     "text": [
      "Requirement already satisfied: pandas in /Users/daniel_david_kovacs/.pyenv/versions/3.11.0a6/lib/python3.11/site-packages (1.5.3)\n",
      "Collecting matplotlib\n",
      "  Downloading matplotlib-3.7.0-cp311-cp311-macosx_11_0_arm64.whl (7.3 MB)\n",
      "\u001b[K     |████████████████████████████████| 7.3 MB 5.3 MB/s eta 0:00:01\n",
      "\u001b[?25hRequirement already satisfied: numpy>=1.21.0 in /Users/daniel_david_kovacs/.pyenv/versions/3.11.0a6/lib/python3.11/site-packages (from pandas) (1.24.2)\n",
      "Requirement already satisfied: pytz>=2020.1 in /Users/daniel_david_kovacs/.pyenv/versions/3.11.0a6/lib/python3.11/site-packages (from pandas) (2022.7.1)\n",
      "Requirement already satisfied: python-dateutil>=2.8.1 in /Users/daniel_david_kovacs/.pyenv/versions/3.11.0a6/lib/python3.11/site-packages (from pandas) (2.8.2)\n",
      "Collecting cycler>=0.10\n",
      "  Downloading cycler-0.11.0-py3-none-any.whl (6.4 kB)\n",
      "Requirement already satisfied: pyparsing>=2.3.1 in /Users/daniel_david_kovacs/.pyenv/versions/3.11.0a6/lib/python3.11/site-packages (from matplotlib) (3.0.9)\n",
      "Requirement already satisfied: packaging>=20.0 in /Users/daniel_david_kovacs/.pyenv/versions/3.11.0a6/lib/python3.11/site-packages (from matplotlib) (21.3)\n",
      "Collecting fonttools>=4.22.0\n",
      "  Downloading fonttools-4.38.0-py3-none-any.whl (965 kB)\n",
      "\u001b[K     |████████████████████████████████| 965 kB 15.9 MB/s eta 0:00:01\n",
      "\u001b[?25hCollecting contourpy>=1.0.1\n",
      "  Downloading contourpy-1.0.7-cp311-cp311-macosx_11_0_arm64.whl (229 kB)\n",
      "\u001b[K     |████████████████████████████████| 229 kB 26.8 MB/s eta 0:00:01\n",
      "\u001b[?25hCollecting kiwisolver>=1.0.1\n",
      "  Downloading kiwisolver-1.4.4-cp311-cp311-macosx_11_0_arm64.whl (63 kB)\n",
      "\u001b[K     |████████████████████████████████| 63 kB 11.9 MB/s eta 0:00:01\n",
      "\u001b[?25hCollecting pillow>=6.2.0\n",
      "  Downloading Pillow-9.4.0-cp311-cp311-macosx_11_0_arm64.whl (3.0 MB)\n",
      "\u001b[K     |████████████████████████████████| 3.0 MB 21.7 MB/s eta 0:00:01\n",
      "\u001b[?25hRequirement already satisfied: six>=1.5 in /Users/daniel_david_kovacs/.pyenv/versions/3.11.0a6/lib/python3.11/site-packages (from python-dateutil>=2.8.1->pandas) (1.16.0)\n",
      "Installing collected packages: pillow, kiwisolver, fonttools, cycler, contourpy, matplotlib\n",
      "Successfully installed contourpy-1.0.7 cycler-0.11.0 fonttools-4.38.0 kiwisolver-1.4.4 matplotlib-3.7.0 pillow-9.4.0\n",
      "\u001b[33mWARNING: You are using pip version 21.2.4; however, version 23.0.1 is available.\n",
      "You should consider upgrading via the '/Users/daniel_david_kovacs/.pyenv/versions/3.11.0a6/bin/python -m pip install --upgrade pip' command.\u001b[0m\n",
      "Note: you may need to restart the kernel to use updated packages.\n"
     ]
    }
   ],
   "source": [
    "%pip install pandas matplotlib"
   ]
  },
  {
   "cell_type": "code",
   "execution_count": 1,
   "metadata": {},
   "outputs": [],
   "source": [
    "import os\n",
    "import re\n",
    "from typing import List\n",
    "\n",
    "def source_path(file_pattern: str) -> List[str]:\n",
    "    dir = os.path.join(\n",
    "        # os.path.dirname(__file__),\n",
    "        os.path.pardir,\n",
    "        'datasets',\n",
    "        'imdb_full'\n",
    "    )\n",
    "    source_files = [\n",
    "        os.path.abspath(os.path.join(dir, f)) \n",
    "        for f \n",
    "        in os.listdir(dir) \n",
    "        if re.match(file_pattern, f)]\n",
    "    return source_files"
   ]
  },
  {
   "cell_type": "code",
   "execution_count": 2,
   "metadata": {},
   "outputs": [
    {
     "data": {
      "text/html": [
       "<div>\n",
       "<style scoped>\n",
       "    .dataframe tbody tr th:only-of-type {\n",
       "        vertical-align: middle;\n",
       "    }\n",
       "\n",
       "    .dataframe tbody tr th {\n",
       "        vertical-align: top;\n",
       "    }\n",
       "\n",
       "    .dataframe thead th {\n",
       "        text-align: right;\n",
       "    }\n",
       "</style>\n",
       "<table border=\"1\" class=\"dataframe\">\n",
       "  <thead>\n",
       "    <tr style=\"text-align: right;\">\n",
       "      <th></th>\n",
       "      <th>movieid</th>\n",
       "      <th>title</th>\n",
       "      <th>year</th>\n",
       "    </tr>\n",
       "  </thead>\n",
       "  <tbody>\n",
       "    <tr>\n",
       "      <th>0</th>\n",
       "      <td>1672052</td>\n",
       "      <td>'Breaker' Morant (1980)</td>\n",
       "      <td>1980</td>\n",
       "    </tr>\n",
       "    <tr>\n",
       "      <th>1</th>\n",
       "      <td>1672111</td>\n",
       "      <td>'Crocodile' Dundee II (1988)</td>\n",
       "      <td>1988</td>\n",
       "    </tr>\n",
       "    <tr>\n",
       "      <th>2</th>\n",
       "      <td>1672580</td>\n",
       "      <td>'Til There Was You (1997)</td>\n",
       "      <td>1997</td>\n",
       "    </tr>\n",
       "    <tr>\n",
       "      <th>3</th>\n",
       "      <td>1672716</td>\n",
       "      <td>'night, Mother (1986)</td>\n",
       "      <td>1986</td>\n",
       "    </tr>\n",
       "    <tr>\n",
       "      <th>4</th>\n",
       "      <td>1672946</td>\n",
       "      <td>...And Justice for All (2014)</td>\n",
       "      <td>2014</td>\n",
       "    </tr>\n",
       "    <tr>\n",
       "      <th>...</th>\n",
       "      <td>...</td>\n",
       "      <td>...</td>\n",
       "      <td>...</td>\n",
       "    </tr>\n",
       "    <tr>\n",
       "      <th>3827</th>\n",
       "      <td>2591814</td>\n",
       "      <td>eXistenZ (1999)</td>\n",
       "      <td>1999</td>\n",
       "    </tr>\n",
       "    <tr>\n",
       "      <th>3828</th>\n",
       "      <td>2592334</td>\n",
       "      <td>¡Three Amigos! (1986)</td>\n",
       "      <td>1986</td>\n",
       "    </tr>\n",
       "    <tr>\n",
       "      <th>3829</th>\n",
       "      <td>2592963</td>\n",
       "      <td>À nous la liberté (1931)</td>\n",
       "      <td>1931</td>\n",
       "    </tr>\n",
       "    <tr>\n",
       "      <th>3830</th>\n",
       "      <td>2593112</td>\n",
       "      <td>Á köldum klaka (1995)</td>\n",
       "      <td>1995</td>\n",
       "    </tr>\n",
       "    <tr>\n",
       "      <th>3831</th>\n",
       "      <td>2593313</td>\n",
       "      <td>Átame! (1990)</td>\n",
       "      <td>1990</td>\n",
       "    </tr>\n",
       "  </tbody>\n",
       "</table>\n",
       "<p>3832 rows × 3 columns</p>\n",
       "</div>"
      ],
      "text/plain": [
       "      movieid                          title  year\n",
       "0     1672052        'Breaker' Morant (1980)  1980\n",
       "1     1672111   'Crocodile' Dundee II (1988)  1988\n",
       "2     1672580      'Til There Was You (1997)  1997\n",
       "3     1672716          'night, Mother (1986)  1986\n",
       "4     1672946  ...And Justice for All (2014)  2014\n",
       "...       ...                            ...   ...\n",
       "3827  2591814                eXistenZ (1999)  1999\n",
       "3828  2592334          ¡Three Amigos! (1986)  1986\n",
       "3829  2592963       À nous la liberté (1931)  1931\n",
       "3830  2593112          Á köldum klaka (1995)  1995\n",
       "3831  2593313                  Átame! (1990)  1990\n",
       "\n",
       "[3832 rows x 3 columns]"
      ]
     },
     "execution_count": 2,
     "metadata": {},
     "output_type": "execute_result"
    }
   ],
   "source": [
    "import pandas as pd\n",
    "\n",
    "with open(source_path(r\"movies_.*\\.csv\")[0]) as movies:\n",
    "    movies_df = pd.read_csv(movies)\n",
    "\n",
    "movies_df"
   ]
  },
  {
   "cell_type": "code",
   "execution_count": 92,
   "metadata": {},
   "outputs": [
    {
     "data": {
      "text/html": [
       "<div>\n",
       "<style scoped>\n",
       "    .dataframe tbody tr th:only-of-type {\n",
       "        vertical-align: middle;\n",
       "    }\n",
       "\n",
       "    .dataframe tbody tr th {\n",
       "        vertical-align: top;\n",
       "    }\n",
       "\n",
       "    .dataframe thead th {\n",
       "        text-align: right;\n",
       "    }\n",
       "</style>\n",
       "<table border=\"1\" class=\"dataframe\">\n",
       "  <thead>\n",
       "    <tr style=\"text-align: right;\">\n",
       "      <th></th>\n",
       "      <th>actorid</th>\n",
       "      <th>name</th>\n",
       "      <th>sex</th>\n",
       "    </tr>\n",
       "  </thead>\n",
       "  <tbody>\n",
       "    <tr>\n",
       "      <th>0</th>\n",
       "      <td>4</td>\n",
       "      <td>$hort, Too</td>\n",
       "      <td>M</td>\n",
       "    </tr>\n",
       "    <tr>\n",
       "      <th>1</th>\n",
       "      <td>16</td>\n",
       "      <td>'Bear'Boyd, Steven</td>\n",
       "      <td>M</td>\n",
       "    </tr>\n",
       "    <tr>\n",
       "      <th>2</th>\n",
       "      <td>28</td>\n",
       "      <td>'Dead End' Kids, The</td>\n",
       "      <td>M</td>\n",
       "    </tr>\n",
       "    <tr>\n",
       "      <th>3</th>\n",
       "      <td>566</td>\n",
       "      <td>Aaby, Kristian</td>\n",
       "      <td>M</td>\n",
       "    </tr>\n",
       "    <tr>\n",
       "      <th>4</th>\n",
       "      <td>580</td>\n",
       "      <td>Aadil</td>\n",
       "      <td>M</td>\n",
       "    </tr>\n",
       "    <tr>\n",
       "      <th>...</th>\n",
       "      <td>...</td>\n",
       "      <td>...</td>\n",
       "      <td>...</td>\n",
       "    </tr>\n",
       "    <tr>\n",
       "      <th>98685</th>\n",
       "      <td>2749162</td>\n",
       "      <td>Ôshima, Akiyo</td>\n",
       "      <td>F</td>\n",
       "    </tr>\n",
       "    <tr>\n",
       "      <th>98686</th>\n",
       "      <td>2749168</td>\n",
       "      <td>Ôshima, Yukari</td>\n",
       "      <td>F</td>\n",
       "    </tr>\n",
       "    <tr>\n",
       "      <th>98687</th>\n",
       "      <td>2749204</td>\n",
       "      <td>Ôtani, Ikue</td>\n",
       "      <td>F</td>\n",
       "    </tr>\n",
       "    <tr>\n",
       "      <th>98688</th>\n",
       "      <td>2749377</td>\n",
       "      <td>Örnólfsdóttir, Álfrún</td>\n",
       "      <td>F</td>\n",
       "    </tr>\n",
       "    <tr>\n",
       "      <th>98689</th>\n",
       "      <td>2749386</td>\n",
       "      <td>Öss, Eniko</td>\n",
       "      <td>F</td>\n",
       "    </tr>\n",
       "  </tbody>\n",
       "</table>\n",
       "<p>98690 rows × 3 columns</p>\n",
       "</div>"
      ],
      "text/plain": [
       "       actorid                   name sex\n",
       "0            4             $hort, Too   M\n",
       "1           16     'Bear'Boyd, Steven   M\n",
       "2           28   'Dead End' Kids, The   M\n",
       "3          566         Aaby, Kristian   M\n",
       "4          580                  Aadil   M\n",
       "...        ...                    ...  ..\n",
       "98685  2749162          Ôshima, Akiyo   F\n",
       "98686  2749168         Ôshima, Yukari   F\n",
       "98687  2749204            Ôtani, Ikue   F\n",
       "98688  2749377  Örnólfsdóttir, Álfrún   F\n",
       "98689  2749386             Öss, Eniko   F\n",
       "\n",
       "[98690 rows x 3 columns]"
      ]
     },
     "execution_count": 92,
     "metadata": {},
     "output_type": "execute_result"
    }
   ],
   "source": [
    "with open(source_path(r\"actors_.*\\.csv\")[0]) as actors:\n",
    "    actors_df = pd.read_csv(actors)\n",
    "\n",
    "actors_df"
   ]
  },
  {
   "cell_type": "code",
   "execution_count": 105,
   "metadata": {},
   "outputs": [
    {
     "data": {
      "text/html": [
       "<div>\n",
       "<style scoped>\n",
       "    .dataframe tbody tr th:only-of-type {\n",
       "        vertical-align: middle;\n",
       "    }\n",
       "\n",
       "    .dataframe tbody tr th {\n",
       "        vertical-align: top;\n",
       "    }\n",
       "\n",
       "    .dataframe thead th {\n",
       "        text-align: right;\n",
       "    }\n",
       "</style>\n",
       "<table border=\"1\" class=\"dataframe\">\n",
       "  <thead>\n",
       "    <tr style=\"text-align: right;\">\n",
       "      <th></th>\n",
       "      <th>movieid</th>\n",
       "      <th>actorid</th>\n",
       "      <th>as_character</th>\n",
       "      <th>leading</th>\n",
       "    </tr>\n",
       "  </thead>\n",
       "  <tbody>\n",
       "    <tr>\n",
       "      <th>0</th>\n",
       "      <td>1672052</td>\n",
       "      <td>88796</td>\n",
       "      <td>[Court reporter]  &lt;20&gt;</td>\n",
       "      <td>20</td>\n",
       "    </tr>\n",
       "    <tr>\n",
       "      <th>1</th>\n",
       "      <td>1672052</td>\n",
       "      <td>88848</td>\n",
       "      <td>[Col. Ian 'Johnny' Hamilton]  &lt;7&gt;</td>\n",
       "      <td>7</td>\n",
       "    </tr>\n",
       "    <tr>\n",
       "      <th>2</th>\n",
       "      <td>1672052</td>\n",
       "      <td>121878</td>\n",
       "      <td>[Lt. Reed]  &lt;21&gt;</td>\n",
       "      <td>21</td>\n",
       "    </tr>\n",
       "    <tr>\n",
       "      <th>3</th>\n",
       "      <td>1672052</td>\n",
       "      <td>134348</td>\n",
       "      <td>[Large Boer]  &lt;41&gt;</td>\n",
       "      <td>41</td>\n",
       "    </tr>\n",
       "    <tr>\n",
       "      <th>4</th>\n",
       "      <td>1672052</td>\n",
       "      <td>198682</td>\n",
       "      <td>[Lt. Peter Handcock]  &lt;4&gt;</td>\n",
       "      <td>4</td>\n",
       "    </tr>\n",
       "    <tr>\n",
       "      <th>...</th>\n",
       "      <td>...</td>\n",
       "      <td>...</td>\n",
       "      <td>...</td>\n",
       "      <td>...</td>\n",
       "    </tr>\n",
       "    <tr>\n",
       "      <th>138344</th>\n",
       "      <td>2593313</td>\n",
       "      <td>2439175</td>\n",
       "      <td>[Camello en Vespa]  &lt;6&gt;</td>\n",
       "      <td>6</td>\n",
       "    </tr>\n",
       "    <tr>\n",
       "      <th>138345</th>\n",
       "      <td>2593313</td>\n",
       "      <td>2486754</td>\n",
       "      <td>[Farmacéutica]  &lt;12&gt;</td>\n",
       "      <td>12</td>\n",
       "    </tr>\n",
       "    <tr>\n",
       "      <th>138346</th>\n",
       "      <td>2593313</td>\n",
       "      <td>2521993</td>\n",
       "      <td>[Periodista]  &lt;9&gt;</td>\n",
       "      <td>9</td>\n",
       "    </tr>\n",
       "    <tr>\n",
       "      <th>138347</th>\n",
       "      <td>2593313</td>\n",
       "      <td>2568546</td>\n",
       "      <td>[Alma]  &lt;4&gt;</td>\n",
       "      <td>4</td>\n",
       "    </tr>\n",
       "    <tr>\n",
       "      <th>138348</th>\n",
       "      <td>2593313</td>\n",
       "      <td>2633550</td>\n",
       "      <td>[Camello]  &lt;24&gt;</td>\n",
       "      <td>24</td>\n",
       "    </tr>\n",
       "  </tbody>\n",
       "</table>\n",
       "<p>138349 rows × 4 columns</p>\n",
       "</div>"
      ],
      "text/plain": [
       "        movieid  actorid                       as_character  leading\n",
       "0       1672052    88796             [Court reporter]  <20>       20\n",
       "1       1672052    88848  [Col. Ian 'Johnny' Hamilton]  <7>        7\n",
       "2       1672052   121878                   [Lt. Reed]  <21>       21\n",
       "3       1672052   134348                 [Large Boer]  <41>       41\n",
       "4       1672052   198682          [Lt. Peter Handcock]  <4>        4\n",
       "...         ...      ...                                ...      ...\n",
       "138344  2593313  2439175            [Camello en Vespa]  <6>        6\n",
       "138345  2593313  2486754               [Farmacéutica]  <12>       12\n",
       "138346  2593313  2521993                  [Periodista]  <9>        9\n",
       "138347  2593313  2568546                        [Alma]  <4>        4\n",
       "138348  2593313  2633550                    [Camello]  <24>       24\n",
       "\n",
       "[138349 rows x 4 columns]"
      ]
     },
     "execution_count": 105,
     "metadata": {},
     "output_type": "execute_result"
    }
   ],
   "source": [
    "with open(source_path(r\"movies2actors_.*\\.csv\")[0]) as movies_actors:\n",
    "    movies_actors_df = pd.read_csv(movies_actors)\n",
    "\n",
    "movies_actors_df"
   ]
  },
  {
   "cell_type": "code",
   "execution_count": 69,
   "metadata": {},
   "outputs": [
    {
     "data": {
      "text/html": [
       "<div>\n",
       "<style scoped>\n",
       "    .dataframe tbody tr th:only-of-type {\n",
       "        vertical-align: middle;\n",
       "    }\n",
       "\n",
       "    .dataframe tbody tr th {\n",
       "        vertical-align: top;\n",
       "    }\n",
       "\n",
       "    .dataframe thead th {\n",
       "        text-align: right;\n",
       "    }\n",
       "</style>\n",
       "<table border=\"1\" class=\"dataframe\">\n",
       "  <thead>\n",
       "    <tr style=\"text-align: right;\">\n",
       "      <th></th>\n",
       "      <th>movieid</th>\n",
       "      <th>rank</th>\n",
       "      <th>votes</th>\n",
       "      <th>distribution</th>\n",
       "    </tr>\n",
       "  </thead>\n",
       "  <tbody>\n",
       "    <tr>\n",
       "      <th>0</th>\n",
       "      <td>1672052</td>\n",
       "      <td>7.8</td>\n",
       "      <td>8111.0</td>\n",
       "      <td>0000001222</td>\n",
       "    </tr>\n",
       "    <tr>\n",
       "      <th>1</th>\n",
       "      <td>1672111</td>\n",
       "      <td>5.3</td>\n",
       "      <td>32183.0</td>\n",
       "      <td>0001221000</td>\n",
       "    </tr>\n",
       "    <tr>\n",
       "      <th>2</th>\n",
       "      <td>1672580</td>\n",
       "      <td>4.4</td>\n",
       "      <td>1894.0</td>\n",
       "      <td>0011110000</td>\n",
       "    </tr>\n",
       "    <tr>\n",
       "      <th>3</th>\n",
       "      <td>1672716</td>\n",
       "      <td>7.0</td>\n",
       "      <td>1255.0</td>\n",
       "      <td>0000001212</td>\n",
       "    </tr>\n",
       "    <tr>\n",
       "      <th>4</th>\n",
       "      <td>1673647</td>\n",
       "      <td>6.5</td>\n",
       "      <td>128.0</td>\n",
       "      <td>0000111211</td>\n",
       "    </tr>\n",
       "    <tr>\n",
       "      <th>...</th>\n",
       "      <td>...</td>\n",
       "      <td>...</td>\n",
       "      <td>...</td>\n",
       "      <td>...</td>\n",
       "    </tr>\n",
       "    <tr>\n",
       "      <th>3768</th>\n",
       "      <td>2591814</td>\n",
       "      <td>6.8</td>\n",
       "      <td>56563.0</td>\n",
       "      <td>0000012210</td>\n",
       "    </tr>\n",
       "    <tr>\n",
       "      <th>3769</th>\n",
       "      <td>2592334</td>\n",
       "      <td>6.2</td>\n",
       "      <td>36951.0</td>\n",
       "      <td>0000122100</td>\n",
       "    </tr>\n",
       "    <tr>\n",
       "      <th>3770</th>\n",
       "      <td>2592963</td>\n",
       "      <td>7.6</td>\n",
       "      <td>2294.0</td>\n",
       "      <td>0000002311</td>\n",
       "    </tr>\n",
       "    <tr>\n",
       "      <th>3771</th>\n",
       "      <td>2593112</td>\n",
       "      <td>6.9</td>\n",
       "      <td>1231.0</td>\n",
       "      <td>0000012211</td>\n",
       "    </tr>\n",
       "    <tr>\n",
       "      <th>3772</th>\n",
       "      <td>2593313</td>\n",
       "      <td>6.9</td>\n",
       "      <td>12087.0</td>\n",
       "      <td>0000013210</td>\n",
       "    </tr>\n",
       "  </tbody>\n",
       "</table>\n",
       "<p>3773 rows × 4 columns</p>\n",
       "</div>"
      ],
      "text/plain": [
       "      movieid  rank    votes distribution\n",
       "0     1672052   7.8   8111.0   0000001222\n",
       "1     1672111   5.3  32183.0   0001221000\n",
       "2     1672580   4.4   1894.0   0011110000\n",
       "3     1672716   7.0   1255.0   0000001212\n",
       "4     1673647   6.5    128.0   0000111211\n",
       "...       ...   ...      ...          ...\n",
       "3768  2591814   6.8  56563.0   0000012210\n",
       "3769  2592334   6.2  36951.0   0000122100\n",
       "3770  2592963   7.6   2294.0   0000002311\n",
       "3771  2593112   6.9   1231.0   0000012211\n",
       "3772  2593313   6.9  12087.0   0000013210\n",
       "\n",
       "[3773 rows x 4 columns]"
      ]
     },
     "execution_count": 69,
     "metadata": {},
     "output_type": "execute_result"
    }
   ],
   "source": [
    "with open(source_path(r\"ratings_.*\\.csv\")[0]) as ratings:\n",
    "    ratings_df = pd.read_csv(ratings)\n",
    "\n",
    "ratings_df"
   ]
  },
  {
   "attachments": {},
   "cell_type": "markdown",
   "metadata": {},
   "source": [
    "## DataFrames\n",
    "\n",
    "![frame](https://i.gifer.com/6hxX.gif)\n",
    "\n",
    "like tables, has two dimensions: columns - with names, and rows."
   ]
  },
  {
   "cell_type": "code",
   "execution_count": 46,
   "metadata": {},
   "outputs": [
    {
     "name": "stdout",
     "output_type": "stream",
     "text": [
      "--- DataFrame ---\n",
      "NB! Leave df-s as last statement in notebook cell, gets pretty printed.Python print(...) is less pretty. Observe:\n",
      "\n",
      "   column A column B\n",
      "0         1        a\n",
      "1         2        b\n",
      "2         3        c\n",
      "\n",
      "--- vs. ---\n",
      "\n"
     ]
    },
    {
     "data": {
      "text/html": [
       "<div>\n",
       "<style scoped>\n",
       "    .dataframe tbody tr th:only-of-type {\n",
       "        vertical-align: middle;\n",
       "    }\n",
       "\n",
       "    .dataframe tbody tr th {\n",
       "        vertical-align: top;\n",
       "    }\n",
       "\n",
       "    .dataframe thead th {\n",
       "        text-align: right;\n",
       "    }\n",
       "</style>\n",
       "<table border=\"1\" class=\"dataframe\">\n",
       "  <thead>\n",
       "    <tr style=\"text-align: right;\">\n",
       "      <th></th>\n",
       "      <th>column A</th>\n",
       "      <th>column B</th>\n",
       "    </tr>\n",
       "  </thead>\n",
       "  <tbody>\n",
       "    <tr>\n",
       "      <th>0</th>\n",
       "      <td>1</td>\n",
       "      <td>a</td>\n",
       "    </tr>\n",
       "    <tr>\n",
       "      <th>1</th>\n",
       "      <td>2</td>\n",
       "      <td>b</td>\n",
       "    </tr>\n",
       "    <tr>\n",
       "      <th>2</th>\n",
       "      <td>3</td>\n",
       "      <td>c</td>\n",
       "    </tr>\n",
       "  </tbody>\n",
       "</table>\n",
       "</div>"
      ],
      "text/plain": [
       "   column A column B\n",
       "0         1        a\n",
       "1         2        b\n",
       "2         3        c"
      ]
     },
     "execution_count": 46,
     "metadata": {},
     "output_type": "execute_result"
    }
   ],
   "source": [
    "print(\"--- DataFrame ---\")\n",
    "df = pd.DataFrame({\"column A\": [1, 2, 3], \"column B\": ['a', 'b', 'c']})\n",
    "print(\"NB! Leave df-s as last statement in notebook cell, gets pretty printed.\"\n",
    "      \"Python print(...) is less pretty. Observe:\\n\")\n",
    "print(df)\n",
    "print(\"\\n--- vs. ---\\n\")\n",
    "df"
   ]
  },
  {
   "cell_type": "code",
   "execution_count": 17,
   "metadata": {},
   "outputs": [
    {
     "name": "stdout",
     "output_type": "stream",
     "text": [
      "type of DataFrame object:  <class 'pandas.core.frame.DataFrame'>\n"
     ]
    }
   ],
   "source": [
    "print(\"type of DataFrame object: \", type(df))"
   ]
  },
  {
   "attachments": {},
   "cell_type": "markdown",
   "metadata": {},
   "source": [
    "### Index\n",
    "DataFrames can have indices. Single, or multi level.\n",
    "\n",
    "Default index (above) is a 0-based range, with no name. Index can be\n",
    "- renamed\n",
    "- set to a different column\n",
    "- opt to keep or discard existing index, when setting a new one.\n",
    "\n",
    "Index can also be converted into regular columns."
   ]
  },
  {
   "cell_type": "code",
   "execution_count": 12,
   "metadata": {},
   "outputs": [
    {
     "data": {
      "text/html": [
       "<div>\n",
       "<style scoped>\n",
       "    .dataframe tbody tr th:only-of-type {\n",
       "        vertical-align: middle;\n",
       "    }\n",
       "\n",
       "    .dataframe tbody tr th {\n",
       "        vertical-align: top;\n",
       "    }\n",
       "\n",
       "    .dataframe thead th {\n",
       "        text-align: right;\n",
       "    }\n",
       "</style>\n",
       "<table border=\"1\" class=\"dataframe\">\n",
       "  <thead>\n",
       "    <tr style=\"text-align: right;\">\n",
       "      <th></th>\n",
       "      <th>column A</th>\n",
       "      <th>column B</th>\n",
       "    </tr>\n",
       "    <tr>\n",
       "      <th>my_index</th>\n",
       "      <th></th>\n",
       "      <th></th>\n",
       "    </tr>\n",
       "  </thead>\n",
       "  <tbody>\n",
       "    <tr>\n",
       "      <th>0</th>\n",
       "      <td>1</td>\n",
       "      <td>a</td>\n",
       "    </tr>\n",
       "    <tr>\n",
       "      <th>1</th>\n",
       "      <td>2</td>\n",
       "      <td>b</td>\n",
       "    </tr>\n",
       "    <tr>\n",
       "      <th>2</th>\n",
       "      <td>3</td>\n",
       "      <td>c</td>\n",
       "    </tr>\n",
       "  </tbody>\n",
       "</table>\n",
       "</div>"
      ],
      "text/plain": [
       "          column A column B\n",
       "my_index                   \n",
       "0                1        a\n",
       "1                2        b\n",
       "2                3        c"
      ]
     },
     "execution_count": 12,
     "metadata": {},
     "output_type": "execute_result"
    }
   ],
   "source": [
    "# rename index\n",
    "df.index.rename(\"my_index\", inplace=True)\n",
    "df"
   ]
  },
  {
   "cell_type": "code",
   "execution_count": 13,
   "metadata": {},
   "outputs": [
    {
     "data": {
      "text/html": [
       "<div>\n",
       "<style scoped>\n",
       "    .dataframe tbody tr th:only-of-type {\n",
       "        vertical-align: middle;\n",
       "    }\n",
       "\n",
       "    .dataframe tbody tr th {\n",
       "        vertical-align: top;\n",
       "    }\n",
       "\n",
       "    .dataframe thead th {\n",
       "        text-align: right;\n",
       "    }\n",
       "</style>\n",
       "<table border=\"1\" class=\"dataframe\">\n",
       "  <thead>\n",
       "    <tr style=\"text-align: right;\">\n",
       "      <th></th>\n",
       "      <th>column A</th>\n",
       "      <th>column B</th>\n",
       "      <th>blip</th>\n",
       "    </tr>\n",
       "    <tr>\n",
       "      <th>my_index</th>\n",
       "      <th></th>\n",
       "      <th></th>\n",
       "      <th></th>\n",
       "    </tr>\n",
       "  </thead>\n",
       "  <tbody>\n",
       "    <tr>\n",
       "      <th>0</th>\n",
       "      <td>1</td>\n",
       "      <td>a</td>\n",
       "      <td>blup</td>\n",
       "    </tr>\n",
       "    <tr>\n",
       "      <th>1</th>\n",
       "      <td>2</td>\n",
       "      <td>b</td>\n",
       "      <td>blup</td>\n",
       "    </tr>\n",
       "    <tr>\n",
       "      <th>2</th>\n",
       "      <td>3</td>\n",
       "      <td>c</td>\n",
       "      <td>blargh</td>\n",
       "    </tr>\n",
       "  </tbody>\n",
       "</table>\n",
       "</div>"
      ],
      "text/plain": [
       "          column A column B    blip\n",
       "my_index                           \n",
       "0                1        a    blup\n",
       "1                2        b    blup\n",
       "2                3        c  blargh"
      ]
     },
     "execution_count": 13,
     "metadata": {},
     "output_type": "execute_result"
    }
   ],
   "source": [
    "# add another column:\n",
    "df[\"blip\"] = [\"blup\", \"blup\", \"blargh\"]\n",
    "df"
   ]
  },
  {
   "cell_type": "code",
   "execution_count": 15,
   "metadata": {},
   "outputs": [
    {
     "data": {
      "text/html": [
       "<div>\n",
       "<style scoped>\n",
       "    .dataframe tbody tr th:only-of-type {\n",
       "        vertical-align: middle;\n",
       "    }\n",
       "\n",
       "    .dataframe tbody tr th {\n",
       "        vertical-align: top;\n",
       "    }\n",
       "\n",
       "    .dataframe thead th {\n",
       "        text-align: right;\n",
       "    }\n",
       "</style>\n",
       "<table border=\"1\" class=\"dataframe\">\n",
       "  <thead>\n",
       "    <tr style=\"text-align: right;\">\n",
       "      <th></th>\n",
       "      <th></th>\n",
       "      <th>column A</th>\n",
       "      <th>column B</th>\n",
       "    </tr>\n",
       "    <tr>\n",
       "      <th>my_index</th>\n",
       "      <th>blip</th>\n",
       "      <th></th>\n",
       "      <th></th>\n",
       "    </tr>\n",
       "  </thead>\n",
       "  <tbody>\n",
       "    <tr>\n",
       "      <th>0</th>\n",
       "      <th>blup</th>\n",
       "      <td>1</td>\n",
       "      <td>a</td>\n",
       "    </tr>\n",
       "    <tr>\n",
       "      <th>1</th>\n",
       "      <th>blup</th>\n",
       "      <td>2</td>\n",
       "      <td>b</td>\n",
       "    </tr>\n",
       "    <tr>\n",
       "      <th>2</th>\n",
       "      <th>blargh</th>\n",
       "      <td>3</td>\n",
       "      <td>c</td>\n",
       "    </tr>\n",
       "  </tbody>\n",
       "</table>\n",
       "</div>"
      ],
      "text/plain": [
       "                 column A column B\n",
       "my_index blip                     \n",
       "0        blup           1        a\n",
       "1        blup           2        b\n",
       "2        blargh         3        c"
      ]
     },
     "execution_count": 15,
     "metadata": {},
     "output_type": "execute_result"
    }
   ],
   "source": [
    "df.set_index(\"blip\", append=True, inplace=True)\n",
    "df"
   ]
  },
  {
   "cell_type": "code",
   "execution_count": 16,
   "metadata": {},
   "outputs": [
    {
     "data": {
      "text/html": [
       "<div>\n",
       "<style scoped>\n",
       "    .dataframe tbody tr th:only-of-type {\n",
       "        vertical-align: middle;\n",
       "    }\n",
       "\n",
       "    .dataframe tbody tr th {\n",
       "        vertical-align: top;\n",
       "    }\n",
       "\n",
       "    .dataframe thead th {\n",
       "        text-align: right;\n",
       "    }\n",
       "</style>\n",
       "<table border=\"1\" class=\"dataframe\">\n",
       "  <thead>\n",
       "    <tr style=\"text-align: right;\">\n",
       "      <th></th>\n",
       "      <th>my_index</th>\n",
       "      <th>column A</th>\n",
       "      <th>column B</th>\n",
       "    </tr>\n",
       "    <tr>\n",
       "      <th>blip</th>\n",
       "      <th></th>\n",
       "      <th></th>\n",
       "      <th></th>\n",
       "    </tr>\n",
       "  </thead>\n",
       "  <tbody>\n",
       "    <tr>\n",
       "      <th>blup</th>\n",
       "      <td>0</td>\n",
       "      <td>1</td>\n",
       "      <td>a</td>\n",
       "    </tr>\n",
       "    <tr>\n",
       "      <th>blup</th>\n",
       "      <td>1</td>\n",
       "      <td>2</td>\n",
       "      <td>b</td>\n",
       "    </tr>\n",
       "    <tr>\n",
       "      <th>blargh</th>\n",
       "      <td>2</td>\n",
       "      <td>3</td>\n",
       "      <td>c</td>\n",
       "    </tr>\n",
       "  </tbody>\n",
       "</table>\n",
       "</div>"
      ],
      "text/plain": [
       "        my_index  column A column B\n",
       "blip                               \n",
       "blup           0         1        a\n",
       "blup           1         2        b\n",
       "blargh         2         3        c"
      ]
     },
     "execution_count": 16,
     "metadata": {},
     "output_type": "execute_result"
    }
   ],
   "source": [
    "# turn index into column\n",
    "df.reset_index(level=0, inplace=True)\n",
    "df"
   ]
  },
  {
   "attachments": {},
   "cell_type": "markdown",
   "metadata": {},
   "source": [
    "### set - reset index\n",
    "- SET turns column into index\n",
    "- RESET turns index into column"
   ]
  },
  {
   "attachments": {},
   "cell_type": "markdown",
   "metadata": {},
   "source": [
    "## Series\n",
    "Series is like a single column of a DataFrame, a sequence.\n",
    "\n",
    "NB! Sequence can also be indexed."
   ]
  },
  {
   "cell_type": "code",
   "execution_count": 21,
   "metadata": {},
   "outputs": [
    {
     "name": "stdout",
     "output_type": "stream",
     "text": [
      " --- Series --- \n"
     ]
    },
    {
     "data": {
      "text/plain": [
       "blip\n",
       "blup      a\n",
       "blup      b\n",
       "blargh    c\n",
       "Name: column B, dtype: object"
      ]
     },
     "execution_count": 21,
     "metadata": {},
     "output_type": "execute_result"
    }
   ],
   "source": [
    "print(' --- Series --- ')\n",
    "s = df['column B']  # select column of a dataframe\n",
    "s"
   ]
  },
  {
   "attachments": {},
   "cell_type": "markdown",
   "metadata": {},
   "source": [
    "NB! Series don't pretty print, like DataFrames :("
   ]
  },
  {
   "cell_type": "code",
   "execution_count": 35,
   "metadata": {},
   "outputs": [
    {
     "name": "stdout",
     "output_type": "stream",
     "text": [
      "Type of series object:  <class 'pandas.core.series.Series'>\n"
     ]
    }
   ],
   "source": [
    "print(\"Type of series object: \", type(s))"
   ]
  },
  {
   "cell_type": "code",
   "execution_count": 36,
   "metadata": {},
   "outputs": [
    {
     "name": "stdout",
     "output_type": "stream",
     "text": [
      "Index of a series: \n"
     ]
    },
    {
     "data": {
      "text/plain": [
       "Index(['blup', 'blup', 'blargh'], dtype='object', name='blip')"
      ]
     },
     "execution_count": 36,
     "metadata": {},
     "output_type": "execute_result"
    }
   ],
   "source": [
    "print(\"Index of a series: \")\n",
    "s.index"
   ]
  },
  {
   "attachments": {},
   "cell_type": "markdown",
   "metadata": {},
   "source": [
    "### Broadcasting\n",
    "One of the powers of Pandas is that an operation between a series and a scalar is understood as: perform operation elementwise:"
   ]
  },
  {
   "cell_type": "code",
   "execution_count": 30,
   "metadata": {},
   "outputs": [
    {
     "name": "stdout",
     "output_type": "stream",
     "text": [
      "numeric series to play with: df['column A']\n"
     ]
    },
    {
     "data": {
      "text/plain": [
       "blip\n",
       "blup      1\n",
       "blup      2\n",
       "blargh    3\n",
       "Name: column A, dtype: int64"
      ]
     },
     "execution_count": 30,
     "metadata": {},
     "output_type": "execute_result"
    }
   ],
   "source": [
    "print(\"numeric series to play with: df['column A']\")\n",
    "num_series = df['column A']\n",
    "num_series\n"
   ]
  },
  {
   "cell_type": "code",
   "execution_count": 32,
   "metadata": {},
   "outputs": [
    {
     "name": "stdout",
     "output_type": "stream",
     "text": [
      "multiply series: num_series * 10\n"
     ]
    },
    {
     "data": {
      "text/plain": [
       "blip\n",
       "blup      10\n",
       "blup      20\n",
       "blargh    30\n",
       "Name: column A, dtype: int64"
      ]
     },
     "execution_count": 32,
     "metadata": {},
     "output_type": "execute_result"
    }
   ],
   "source": [
    "print(\"multiply series: num_series * 10\")\n",
    "num_series * 10"
   ]
  },
  {
   "cell_type": "code",
   "execution_count": 29,
   "metadata": {},
   "outputs": [
    {
     "name": "stdout",
     "output_type": "stream",
     "text": [
      "boolean operations:\n"
     ]
    },
    {
     "data": {
      "text/plain": [
       "blip\n",
       "blup      False\n",
       "blup      False\n",
       "blargh     True\n",
       "Name: column A, dtype: bool"
      ]
     },
     "execution_count": 29,
     "metadata": {},
     "output_type": "execute_result"
    }
   ],
   "source": [
    "print(\"boolean operations: num_series > 2\")\n",
    "num_series > 2"
   ]
  },
  {
   "attachments": {},
   "cell_type": "markdown",
   "metadata": {},
   "source": [
    "### String Functions\n",
    "broadcasting string functions are namespaced under `.str`, like:\n",
    "- upper()\n",
    "- lower()\n",
    "- endswith()\n",
    "- startswith()\n",
    "- contains()\n",
    "- ..."
   ]
  },
  {
   "cell_type": "code",
   "execution_count": 51,
   "metadata": {},
   "outputs": [
    {
     "data": {
      "text/plain": [
       "0    a\n",
       "1    b\n",
       "2    c\n",
       "Name: column B, dtype: object"
      ]
     },
     "execution_count": 51,
     "metadata": {},
     "output_type": "execute_result"
    }
   ],
   "source": [
    "str_series = df['column B']\n",
    "str_series"
   ]
  },
  {
   "cell_type": "code",
   "execution_count": 34,
   "metadata": {},
   "outputs": [
    {
     "name": "stdout",
     "output_type": "stream",
     "text": [
      ".str namespace functions:\n"
     ]
    },
    {
     "data": {
      "text/plain": [
       "blip\n",
       "blup      A\n",
       "blup      B\n",
       "blargh    C\n",
       "Name: column B, dtype: object"
      ]
     },
     "execution_count": 34,
     "metadata": {},
     "output_type": "execute_result"
    }
   ],
   "source": [
    "print('.str namespace functions:')\n",
    "str_series.str.upper()"
   ]
  },
  {
   "attachments": {},
   "cell_type": "markdown",
   "metadata": {},
   "source": [
    "**NB!** similar namespacing exists for date functions: `pandas.Series.dt`"
   ]
  },
  {
   "attachments": {},
   "cell_type": "markdown",
   "metadata": {},
   "source": [
    "## Filtering DataFrames\n",
    "square bracket notation fetches a series from a dataframe. Pass a \n",
    "- single column name to get a series from one column\n",
    "- a list of columns to get a new dataframe with only the specified columns\n",
    "- a list of booleans to filter row-wise\n",
    "    - True keeps the row\n",
    "    - False drops the row"
   ]
  },
  {
   "attachments": {},
   "cell_type": "markdown",
   "metadata": {},
   "source": [
    "### Filtering Columns\n",
    "Specify multiple column names as a list in dataframe index"
   ]
  },
  {
   "cell_type": "code",
   "execution_count": 47,
   "metadata": {},
   "outputs": [
    {
     "data": {
      "text/html": [
       "<div>\n",
       "<style scoped>\n",
       "    .dataframe tbody tr th:only-of-type {\n",
       "        vertical-align: middle;\n",
       "    }\n",
       "\n",
       "    .dataframe tbody tr th {\n",
       "        vertical-align: top;\n",
       "    }\n",
       "\n",
       "    .dataframe thead th {\n",
       "        text-align: right;\n",
       "    }\n",
       "</style>\n",
       "<table border=\"1\" class=\"dataframe\">\n",
       "  <thead>\n",
       "    <tr style=\"text-align: right;\">\n",
       "      <th></th>\n",
       "      <th>column A</th>\n",
       "      <th>column B</th>\n",
       "      <th>Column C</th>\n",
       "    </tr>\n",
       "  </thead>\n",
       "  <tbody>\n",
       "    <tr>\n",
       "      <th>0</th>\n",
       "      <td>1</td>\n",
       "      <td>a</td>\n",
       "      <td>A_1</td>\n",
       "    </tr>\n",
       "    <tr>\n",
       "      <th>1</th>\n",
       "      <td>2</td>\n",
       "      <td>b</td>\n",
       "      <td>B_2</td>\n",
       "    </tr>\n",
       "    <tr>\n",
       "      <th>2</th>\n",
       "      <td>3</td>\n",
       "      <td>c</td>\n",
       "      <td>C_3</td>\n",
       "    </tr>\n",
       "  </tbody>\n",
       "</table>\n",
       "</div>"
      ],
      "text/plain": [
       "   column A column B Column C\n",
       "0         1        a      A_1\n",
       "1         2        b      B_2\n",
       "2         3        c      C_3"
      ]
     },
     "execution_count": 47,
     "metadata": {},
     "output_type": "execute_result"
    }
   ],
   "source": [
    "df['Column C'] = df['Column C'].str.upper() + \"_\" + df['column A'].astype(str)\n",
    "df"
   ]
  },
  {
   "cell_type": "code",
   "execution_count": 52,
   "metadata": {},
   "outputs": [
    {
     "data": {
      "text/html": [
       "<div>\n",
       "<style scoped>\n",
       "    .dataframe tbody tr th:only-of-type {\n",
       "        vertical-align: middle;\n",
       "    }\n",
       "\n",
       "    .dataframe tbody tr th {\n",
       "        vertical-align: top;\n",
       "    }\n",
       "\n",
       "    .dataframe thead th {\n",
       "        text-align: right;\n",
       "    }\n",
       "</style>\n",
       "<table border=\"1\" class=\"dataframe\">\n",
       "  <thead>\n",
       "    <tr style=\"text-align: right;\">\n",
       "      <th></th>\n",
       "      <th>column B</th>\n",
       "      <th>Column C</th>\n",
       "    </tr>\n",
       "  </thead>\n",
       "  <tbody>\n",
       "    <tr>\n",
       "      <th>0</th>\n",
       "      <td>a</td>\n",
       "      <td>A_1</td>\n",
       "    </tr>\n",
       "    <tr>\n",
       "      <th>1</th>\n",
       "      <td>b</td>\n",
       "      <td>B_2</td>\n",
       "    </tr>\n",
       "    <tr>\n",
       "      <th>2</th>\n",
       "      <td>c</td>\n",
       "      <td>C_3</td>\n",
       "    </tr>\n",
       "  </tbody>\n",
       "</table>\n",
       "</div>"
      ],
      "text/plain": [
       "  column B Column C\n",
       "0        a      A_1\n",
       "1        b      B_2\n",
       "2        c      C_3"
      ]
     },
     "execution_count": 52,
     "metadata": {},
     "output_type": "execute_result"
    }
   ],
   "source": [
    "# only column B and C\n",
    "df[[\"column B\", \"Column C\"]]"
   ]
  },
  {
   "attachments": {},
   "cell_type": "markdown",
   "metadata": {},
   "source": [
    "### Filtering Rows\n",
    "Filter rows with a sequence of bools acting as a mask"
   ]
  },
  {
   "cell_type": "code",
   "execution_count": 53,
   "metadata": {},
   "outputs": [
    {
     "data": {
      "text/html": [
       "<div>\n",
       "<style scoped>\n",
       "    .dataframe tbody tr th:only-of-type {\n",
       "        vertical-align: middle;\n",
       "    }\n",
       "\n",
       "    .dataframe tbody tr th {\n",
       "        vertical-align: top;\n",
       "    }\n",
       "\n",
       "    .dataframe thead th {\n",
       "        text-align: right;\n",
       "    }\n",
       "</style>\n",
       "<table border=\"1\" class=\"dataframe\">\n",
       "  <thead>\n",
       "    <tr style=\"text-align: right;\">\n",
       "      <th></th>\n",
       "      <th>column A</th>\n",
       "      <th>column B</th>\n",
       "      <th>Column C</th>\n",
       "    </tr>\n",
       "  </thead>\n",
       "  <tbody>\n",
       "    <tr>\n",
       "      <th>0</th>\n",
       "      <td>1</td>\n",
       "      <td>a</td>\n",
       "      <td>A_1</td>\n",
       "    </tr>\n",
       "    <tr>\n",
       "      <th>2</th>\n",
       "      <td>3</td>\n",
       "      <td>c</td>\n",
       "      <td>C_3</td>\n",
       "    </tr>\n",
       "  </tbody>\n",
       "</table>\n",
       "</div>"
      ],
      "text/plain": [
       "   column A column B Column C\n",
       "0         1        a      A_1\n",
       "2         3        c      C_3"
      ]
     },
     "execution_count": 53,
     "metadata": {},
     "output_type": "execute_result"
    }
   ],
   "source": [
    "# lets keep the first and third row only\n",
    "df[[True, False, True]]"
   ]
  },
  {
   "attachments": {},
   "cell_type": "markdown",
   "metadata": {},
   "source": [
    "It would be of little use, if the bool list had to be created by hand. Remember the broadcasting operations on series, that produce bools?"
   ]
  },
  {
   "cell_type": "code",
   "execution_count": 54,
   "metadata": {},
   "outputs": [
    {
     "name": "stdout",
     "output_type": "stream",
     "text": [
      "True for odd, False for even numbers: \n"
     ]
    },
    {
     "data": {
      "text/plain": [
       "0     True\n",
       "1    False\n",
       "2     True\n",
       "Name: column A, dtype: bool"
      ]
     },
     "execution_count": 54,
     "metadata": {},
     "output_type": "execute_result"
    }
   ],
   "source": [
    "print(\"True for odd, False for even numbers: \")\n",
    "df['column A'] % 2 == 1"
   ]
  },
  {
   "attachments": {},
   "cell_type": "markdown",
   "metadata": {},
   "source": [
    "And now combining the two:"
   ]
  },
  {
   "cell_type": "code",
   "execution_count": 55,
   "metadata": {},
   "outputs": [
    {
     "data": {
      "text/html": [
       "<div>\n",
       "<style scoped>\n",
       "    .dataframe tbody tr th:only-of-type {\n",
       "        vertical-align: middle;\n",
       "    }\n",
       "\n",
       "    .dataframe tbody tr th {\n",
       "        vertical-align: top;\n",
       "    }\n",
       "\n",
       "    .dataframe thead th {\n",
       "        text-align: right;\n",
       "    }\n",
       "</style>\n",
       "<table border=\"1\" class=\"dataframe\">\n",
       "  <thead>\n",
       "    <tr style=\"text-align: right;\">\n",
       "      <th></th>\n",
       "      <th>column A</th>\n",
       "      <th>column B</th>\n",
       "      <th>Column C</th>\n",
       "    </tr>\n",
       "  </thead>\n",
       "  <tbody>\n",
       "    <tr>\n",
       "      <th>0</th>\n",
       "      <td>1</td>\n",
       "      <td>a</td>\n",
       "      <td>A_1</td>\n",
       "    </tr>\n",
       "    <tr>\n",
       "      <th>2</th>\n",
       "      <td>3</td>\n",
       "      <td>c</td>\n",
       "      <td>C_3</td>\n",
       "    </tr>\n",
       "  </tbody>\n",
       "</table>\n",
       "</div>"
      ],
      "text/plain": [
       "   column A column B Column C\n",
       "0         1        a      A_1\n",
       "2         3        c      C_3"
      ]
     },
     "execution_count": 55,
     "metadata": {},
     "output_type": "execute_result"
    }
   ],
   "source": [
    "df[df['column A'] % 2 == 1]"
   ]
  },
  {
   "attachments": {},
   "cell_type": "markdown",
   "metadata": {},
   "source": [
    "## Index revisited"
   ]
  },
  {
   "attachments": {},
   "cell_type": "markdown",
   "metadata": {},
   "source": [
    "Q: What can you do with indeces? \n",
    "A: search, target rows. \n",
    "Q: How is this different from filtering?\n",
    "A: Its faster: building a mask: O(n). search in an index: O(log n)\n",
    "    - sequential search vs\n",
    "    - binary search"
   ]
  },
  {
   "attachments": {},
   "cell_type": "markdown",
   "metadata": {},
   "source": [
    "Use `.loc` to address by index value. If Index has more levels, unless explicitly specifying the level, addresses from outermost to innermost index."
   ]
  },
  {
   "cell_type": "code",
   "execution_count": 106,
   "metadata": {},
   "outputs": [],
   "source": [
    "star_wars = movies_df[movies_df['title'].str.contains(\"Star Wars\")].head(1)['movieid'].values[0]"
   ]
  },
  {
   "cell_type": "code",
   "execution_count": 107,
   "metadata": {},
   "outputs": [
    {
     "name": "stdout",
     "output_type": "stream",
     "text": [
      "CPU times: user 1.1 ms, sys: 868 µs, total: 1.97 ms\n",
      "Wall time: 1.33 ms\n"
     ]
    },
    {
     "data": {
      "text/html": [
       "<div>\n",
       "<style scoped>\n",
       "    .dataframe tbody tr th:only-of-type {\n",
       "        vertical-align: middle;\n",
       "    }\n",
       "\n",
       "    .dataframe tbody tr th {\n",
       "        vertical-align: top;\n",
       "    }\n",
       "\n",
       "    .dataframe thead th {\n",
       "        text-align: right;\n",
       "    }\n",
       "</style>\n",
       "<table border=\"1\" class=\"dataframe\">\n",
       "  <thead>\n",
       "    <tr style=\"text-align: right;\">\n",
       "      <th></th>\n",
       "      <th>movieid</th>\n",
       "      <th>actorid</th>\n",
       "      <th>as_character</th>\n",
       "      <th>leading</th>\n",
       "    </tr>\n",
       "  </thead>\n",
       "  <tbody>\n",
       "    <tr>\n",
       "      <th>99016</th>\n",
       "      <td>2371726</td>\n",
       "      <td>48805</td>\n",
       "      <td>(voice) (uncredited)  [Red Two]</td>\n",
       "      <td>0</td>\n",
       "    </tr>\n",
       "    <tr>\n",
       "      <th>99017</th>\n",
       "      <td>2371726</td>\n",
       "      <td>65783</td>\n",
       "      <td>[Gold Five]  &lt;23&gt;</td>\n",
       "      <td>23</td>\n",
       "    </tr>\n",
       "    <tr>\n",
       "      <th>99018</th>\n",
       "      <td>2371726</td>\n",
       "      <td>85263</td>\n",
       "      <td>[R2-D2]  &lt;7&gt;</td>\n",
       "      <td>7</td>\n",
       "    </tr>\n",
       "    <tr>\n",
       "      <th>99019</th>\n",
       "      <td>2371726</td>\n",
       "      <td>112876</td>\n",
       "      <td>(voice) (uncredited)  [Stormtrooper]</td>\n",
       "      <td>0</td>\n",
       "    </tr>\n",
       "    <tr>\n",
       "      <th>99020</th>\n",
       "      <td>2371726</td>\n",
       "      <td>201345</td>\n",
       "      <td>[Uncle Owen]  &lt;11&gt;</td>\n",
       "      <td>11</td>\n",
       "    </tr>\n",
       "    <tr>\n",
       "      <th>99021</th>\n",
       "      <td>2371726</td>\n",
       "      <td>222918</td>\n",
       "      <td>[General Willard]  &lt;15&gt;</td>\n",
       "      <td>15</td>\n",
       "    </tr>\n",
       "    <tr>\n",
       "      <th>99022</th>\n",
       "      <td>2371726</td>\n",
       "      <td>345672</td>\n",
       "      <td>[Grand Moff Tarkin]  &lt;4&gt;</td>\n",
       "      <td>4</td>\n",
       "    </tr>\n",
       "    <tr>\n",
       "      <th>99023</th>\n",
       "      <td>2371726</td>\n",
       "      <td>356845</td>\n",
       "      <td>[C-3PO]  &lt;6&gt;</td>\n",
       "      <td>6</td>\n",
       "    </tr>\n",
       "    <tr>\n",
       "      <th>99024</th>\n",
       "      <td>2371726</td>\n",
       "      <td>511760</td>\n",
       "      <td>[Han Solo]  &lt;2&gt;</td>\n",
       "      <td>2</td>\n",
       "    </tr>\n",
       "    <tr>\n",
       "      <th>99025</th>\n",
       "      <td>2371726</td>\n",
       "      <td>619864</td>\n",
       "      <td>[Ben Obi-Wan Kenobi]  &lt;5&gt;</td>\n",
       "      <td>5</td>\n",
       "    </tr>\n",
       "    <tr>\n",
       "      <th>99026</th>\n",
       "      <td>2371726</td>\n",
       "      <td>632052</td>\n",
       "      <td>[Red Three (Biggs)]  &lt;18&gt;</td>\n",
       "      <td>18</td>\n",
       "    </tr>\n",
       "    <tr>\n",
       "      <th>99027</th>\n",
       "      <td>2371726</td>\n",
       "      <td>638959</td>\n",
       "      <td>[Luke Skywalker]  &lt;1&gt;</td>\n",
       "      <td>1</td>\n",
       "    </tr>\n",
       "    <tr>\n",
       "      <th>99028</th>\n",
       "      <td>2371726</td>\n",
       "      <td>673059</td>\n",
       "      <td>[General Taggi]  &lt;24&gt;</td>\n",
       "      <td>24</td>\n",
       "    </tr>\n",
       "    <tr>\n",
       "      <th>99029</th>\n",
       "      <td>2371726</td>\n",
       "      <td>674417</td>\n",
       "      <td>(as Drewe Hemley)  [Red Leader]  &lt;16&gt;</td>\n",
       "      <td>16</td>\n",
       "    </tr>\n",
       "    <tr>\n",
       "      <th>99030</th>\n",
       "      <td>2371726</td>\n",
       "      <td>705016</td>\n",
       "      <td>[Red Six (Porkins)]  &lt;20&gt;</td>\n",
       "      <td>20</td>\n",
       "    </tr>\n",
       "    <tr>\n",
       "      <th>99031</th>\n",
       "      <td>2371726</td>\n",
       "      <td>775508</td>\n",
       "      <td>(voice) (uncredited)  [Darth Vader]</td>\n",
       "      <td>0</td>\n",
       "    </tr>\n",
       "    <tr>\n",
       "      <th>99032</th>\n",
       "      <td>2371726</td>\n",
       "      <td>834863</td>\n",
       "      <td>(voice) (uncredited)  [Stormtrooper]</td>\n",
       "      <td>0</td>\n",
       "    </tr>\n",
       "    <tr>\n",
       "      <th>99033</th>\n",
       "      <td>2371726</td>\n",
       "      <td>835843</td>\n",
       "      <td>[Red Four (John D.)]  &lt;19&gt;</td>\n",
       "      <td>19</td>\n",
       "    </tr>\n",
       "    <tr>\n",
       "      <th>99034</th>\n",
       "      <td>2371726</td>\n",
       "      <td>897716</td>\n",
       "      <td>(as Dennis Lawson)  [Red Two (Wedge)]  &lt;17&gt;</td>\n",
       "      <td>17</td>\n",
       "    </tr>\n",
       "    <tr>\n",
       "      <th>99035</th>\n",
       "      <td>2371726</td>\n",
       "      <td>915131</td>\n",
       "      <td>[General Motti]  &lt;25&gt;</td>\n",
       "      <td>25</td>\n",
       "    </tr>\n",
       "    <tr>\n",
       "      <th>99036</th>\n",
       "      <td>2371726</td>\n",
       "      <td>967476</td>\n",
       "      <td>(as Angus Mcinnis)  [Gold Leader]  &lt;21&gt;</td>\n",
       "      <td>21</td>\n",
       "    </tr>\n",
       "    <tr>\n",
       "      <th>99037</th>\n",
       "      <td>2371726</td>\n",
       "      <td>1022145</td>\n",
       "      <td>[Chewbacca]  &lt;8&gt;</td>\n",
       "      <td>8</td>\n",
       "    </tr>\n",
       "    <tr>\n",
       "      <th>99038</th>\n",
       "      <td>2371726</td>\n",
       "      <td>1030182</td>\n",
       "      <td>[General Dodonna]  &lt;14&gt;</td>\n",
       "      <td>14</td>\n",
       "    </tr>\n",
       "    <tr>\n",
       "      <th>99039</th>\n",
       "      <td>2371726</td>\n",
       "      <td>1279414</td>\n",
       "      <td>[Darth Vader]  &lt;9&gt;</td>\n",
       "      <td>9</td>\n",
       "    </tr>\n",
       "    <tr>\n",
       "      <th>99040</th>\n",
       "      <td>2371726</td>\n",
       "      <td>1283410</td>\n",
       "      <td>[Chief Jawa]  &lt;13&gt;</td>\n",
       "      <td>13</td>\n",
       "    </tr>\n",
       "    <tr>\n",
       "      <th>99041</th>\n",
       "      <td>2371726</td>\n",
       "      <td>1421289</td>\n",
       "      <td>[Commander #1]  &lt;26&gt;</td>\n",
       "      <td>26</td>\n",
       "    </tr>\n",
       "    <tr>\n",
       "      <th>99042</th>\n",
       "      <td>2371726</td>\n",
       "      <td>1471255</td>\n",
       "      <td>[Gold Two]  &lt;22&gt;</td>\n",
       "      <td>22</td>\n",
       "    </tr>\n",
       "    <tr>\n",
       "      <th>99043</th>\n",
       "      <td>2371726</td>\n",
       "      <td>1548133</td>\n",
       "      <td>(voice) (uncredited)  [Cantina Voices]</td>\n",
       "      <td>0</td>\n",
       "    </tr>\n",
       "    <tr>\n",
       "      <th>99044</th>\n",
       "      <td>2371726</td>\n",
       "      <td>1548144</td>\n",
       "      <td>(voice) (uncredited)  [Massassi Outpost Announ...</td>\n",
       "      <td>0</td>\n",
       "    </tr>\n",
       "    <tr>\n",
       "      <th>99045</th>\n",
       "      <td>2371726</td>\n",
       "      <td>1623789</td>\n",
       "      <td>(voice) (uncredited)  [Stormtrooper]</td>\n",
       "      <td>0</td>\n",
       "    </tr>\n",
       "    <tr>\n",
       "      <th>99046</th>\n",
       "      <td>2371726</td>\n",
       "      <td>1677057</td>\n",
       "      <td>(voice) (uncredited)  [Stormtrooper]</td>\n",
       "      <td>0</td>\n",
       "    </tr>\n",
       "    <tr>\n",
       "      <th>99047</th>\n",
       "      <td>2371726</td>\n",
       "      <td>1680564</td>\n",
       "      <td>(voice) (uncredited)  [Greedo]</td>\n",
       "      <td>0</td>\n",
       "    </tr>\n",
       "    <tr>\n",
       "      <th>99048</th>\n",
       "      <td>2371726</td>\n",
       "      <td>2048328</td>\n",
       "      <td>[Princess Leia Organa]  &lt;3&gt;</td>\n",
       "      <td>3</td>\n",
       "    </tr>\n",
       "    <tr>\n",
       "      <th>99049</th>\n",
       "      <td>2371726</td>\n",
       "      <td>2060656</td>\n",
       "      <td>[Aunt Beru]  &lt;12&gt;</td>\n",
       "      <td>12</td>\n",
       "    </tr>\n",
       "  </tbody>\n",
       "</table>\n",
       "</div>"
      ],
      "text/plain": [
       "       movieid  actorid                                       as_character  \\\n",
       "99016  2371726    48805                    (voice) (uncredited)  [Red Two]   \n",
       "99017  2371726    65783                                  [Gold Five]  <23>   \n",
       "99018  2371726    85263                                       [R2-D2]  <7>   \n",
       "99019  2371726   112876               (voice) (uncredited)  [Stormtrooper]   \n",
       "99020  2371726   201345                                 [Uncle Owen]  <11>   \n",
       "99021  2371726   222918                            [General Willard]  <15>   \n",
       "99022  2371726   345672                           [Grand Moff Tarkin]  <4>   \n",
       "99023  2371726   356845                                       [C-3PO]  <6>   \n",
       "99024  2371726   511760                                    [Han Solo]  <2>   \n",
       "99025  2371726   619864                          [Ben Obi-Wan Kenobi]  <5>   \n",
       "99026  2371726   632052                          [Red Three (Biggs)]  <18>   \n",
       "99027  2371726   638959                              [Luke Skywalker]  <1>   \n",
       "99028  2371726   673059                              [General Taggi]  <24>   \n",
       "99029  2371726   674417              (as Drewe Hemley)  [Red Leader]  <16>   \n",
       "99030  2371726   705016                          [Red Six (Porkins)]  <20>   \n",
       "99031  2371726   775508                (voice) (uncredited)  [Darth Vader]   \n",
       "99032  2371726   834863               (voice) (uncredited)  [Stormtrooper]   \n",
       "99033  2371726   835843                         [Red Four (John D.)]  <19>   \n",
       "99034  2371726   897716        (as Dennis Lawson)  [Red Two (Wedge)]  <17>   \n",
       "99035  2371726   915131                              [General Motti]  <25>   \n",
       "99036  2371726   967476            (as Angus Mcinnis)  [Gold Leader]  <21>   \n",
       "99037  2371726  1022145                                   [Chewbacca]  <8>   \n",
       "99038  2371726  1030182                            [General Dodonna]  <14>   \n",
       "99039  2371726  1279414                                 [Darth Vader]  <9>   \n",
       "99040  2371726  1283410                                 [Chief Jawa]  <13>   \n",
       "99041  2371726  1421289                               [Commander #1]  <26>   \n",
       "99042  2371726  1471255                                   [Gold Two]  <22>   \n",
       "99043  2371726  1548133             (voice) (uncredited)  [Cantina Voices]   \n",
       "99044  2371726  1548144  (voice) (uncredited)  [Massassi Outpost Announ...   \n",
       "99045  2371726  1623789               (voice) (uncredited)  [Stormtrooper]   \n",
       "99046  2371726  1677057               (voice) (uncredited)  [Stormtrooper]   \n",
       "99047  2371726  1680564                     (voice) (uncredited)  [Greedo]   \n",
       "99048  2371726  2048328                        [Princess Leia Organa]  <3>   \n",
       "99049  2371726  2060656                                  [Aunt Beru]  <12>   \n",
       "\n",
       "       leading  \n",
       "99016        0  \n",
       "99017       23  \n",
       "99018        7  \n",
       "99019        0  \n",
       "99020       11  \n",
       "99021       15  \n",
       "99022        4  \n",
       "99023        6  \n",
       "99024        2  \n",
       "99025        5  \n",
       "99026       18  \n",
       "99027        1  \n",
       "99028       24  \n",
       "99029       16  \n",
       "99030       20  \n",
       "99031        0  \n",
       "99032        0  \n",
       "99033       19  \n",
       "99034       17  \n",
       "99035       25  \n",
       "99036       21  \n",
       "99037        8  \n",
       "99038       14  \n",
       "99039        9  \n",
       "99040       13  \n",
       "99041       26  \n",
       "99042       22  \n",
       "99043        0  \n",
       "99044        0  \n",
       "99045        0  \n",
       "99046        0  \n",
       "99047        0  \n",
       "99048        3  \n",
       "99049       12  "
      ]
     },
     "execution_count": 107,
     "metadata": {},
     "output_type": "execute_result"
    }
   ],
   "source": [
    "%%time\n",
    "movies_actors_df[movies_actors_df['movieid'] == star_wars]"
   ]
  },
  {
   "attachments": {},
   "cell_type": "markdown",
   "metadata": {},
   "source": [
    "### Multiple Levels of Indeces\n",
    "![index](https://s3.eu-central-1.amazonaws.com/mustang6-static/userupload/1488/ezgif-3-d5cb338f41.gif)"
   ]
  },
  {
   "cell_type": "code",
   "execution_count": 109,
   "metadata": {},
   "outputs": [
    {
     "data": {
      "text/html": [
       "<div>\n",
       "<style scoped>\n",
       "    .dataframe tbody tr th:only-of-type {\n",
       "        vertical-align: middle;\n",
       "    }\n",
       "\n",
       "    .dataframe tbody tr th {\n",
       "        vertical-align: top;\n",
       "    }\n",
       "\n",
       "    .dataframe thead th {\n",
       "        text-align: right;\n",
       "    }\n",
       "</style>\n",
       "<table border=\"1\" class=\"dataframe\">\n",
       "  <thead>\n",
       "    <tr style=\"text-align: right;\">\n",
       "      <th></th>\n",
       "      <th></th>\n",
       "      <th>as_character</th>\n",
       "      <th>leading</th>\n",
       "    </tr>\n",
       "    <tr>\n",
       "      <th>movieid</th>\n",
       "      <th>actorid</th>\n",
       "      <th></th>\n",
       "      <th></th>\n",
       "    </tr>\n",
       "  </thead>\n",
       "  <tbody>\n",
       "    <tr>\n",
       "      <th rowspan=\"5\" valign=\"top\">1672052</th>\n",
       "      <th>88796</th>\n",
       "      <td>[Court reporter]  &lt;20&gt;</td>\n",
       "      <td>20</td>\n",
       "    </tr>\n",
       "    <tr>\n",
       "      <th>88848</th>\n",
       "      <td>[Col. Ian 'Johnny' Hamilton]  &lt;7&gt;</td>\n",
       "      <td>7</td>\n",
       "    </tr>\n",
       "    <tr>\n",
       "      <th>121878</th>\n",
       "      <td>[Lt. Reed]  &lt;21&gt;</td>\n",
       "      <td>21</td>\n",
       "    </tr>\n",
       "    <tr>\n",
       "      <th>134348</th>\n",
       "      <td>[Large Boer]  &lt;41&gt;</td>\n",
       "      <td>41</td>\n",
       "    </tr>\n",
       "    <tr>\n",
       "      <th>198682</th>\n",
       "      <td>[Lt. Peter Handcock]  &lt;4&gt;</td>\n",
       "      <td>4</td>\n",
       "    </tr>\n",
       "    <tr>\n",
       "      <th>...</th>\n",
       "      <th>...</th>\n",
       "      <td>...</td>\n",
       "      <td>...</td>\n",
       "    </tr>\n",
       "    <tr>\n",
       "      <th rowspan=\"5\" valign=\"top\">2593313</th>\n",
       "      <th>2439175</th>\n",
       "      <td>[Camello en Vespa]  &lt;6&gt;</td>\n",
       "      <td>6</td>\n",
       "    </tr>\n",
       "    <tr>\n",
       "      <th>2486754</th>\n",
       "      <td>[Farmacéutica]  &lt;12&gt;</td>\n",
       "      <td>12</td>\n",
       "    </tr>\n",
       "    <tr>\n",
       "      <th>2521993</th>\n",
       "      <td>[Periodista]  &lt;9&gt;</td>\n",
       "      <td>9</td>\n",
       "    </tr>\n",
       "    <tr>\n",
       "      <th>2568546</th>\n",
       "      <td>[Alma]  &lt;4&gt;</td>\n",
       "      <td>4</td>\n",
       "    </tr>\n",
       "    <tr>\n",
       "      <th>2633550</th>\n",
       "      <td>[Camello]  &lt;24&gt;</td>\n",
       "      <td>24</td>\n",
       "    </tr>\n",
       "  </tbody>\n",
       "</table>\n",
       "<p>138349 rows × 2 columns</p>\n",
       "</div>"
      ],
      "text/plain": [
       "                                      as_character  leading\n",
       "movieid actorid                                            \n",
       "1672052 88796               [Court reporter]  <20>       20\n",
       "        88848    [Col. Ian 'Johnny' Hamilton]  <7>        7\n",
       "        121878                    [Lt. Reed]  <21>       21\n",
       "        134348                  [Large Boer]  <41>       41\n",
       "        198682           [Lt. Peter Handcock]  <4>        4\n",
       "...                                            ...      ...\n",
       "2593313 2439175            [Camello en Vespa]  <6>        6\n",
       "        2486754               [Farmacéutica]  <12>       12\n",
       "        2521993                  [Periodista]  <9>        9\n",
       "        2568546                        [Alma]  <4>        4\n",
       "        2633550                    [Camello]  <24>       24\n",
       "\n",
       "[138349 rows x 2 columns]"
      ]
     },
     "execution_count": 109,
     "metadata": {},
     "output_type": "execute_result"
    }
   ],
   "source": [
    "m2a = movies_actors_df.set_index(['movieid', 'actorid'])\n",
    "m2a"
   ]
  },
  {
   "cell_type": "code",
   "execution_count": 111,
   "metadata": {},
   "outputs": [
    {
     "name": "stdout",
     "output_type": "stream",
     "text": [
      "CPU times: user 958 µs, sys: 624 µs, total: 1.58 ms\n",
      "Wall time: 811 µs\n"
     ]
    },
    {
     "data": {
      "text/html": [
       "<div>\n",
       "<style scoped>\n",
       "    .dataframe tbody tr th:only-of-type {\n",
       "        vertical-align: middle;\n",
       "    }\n",
       "\n",
       "    .dataframe tbody tr th {\n",
       "        vertical-align: top;\n",
       "    }\n",
       "\n",
       "    .dataframe thead th {\n",
       "        text-align: right;\n",
       "    }\n",
       "</style>\n",
       "<table border=\"1\" class=\"dataframe\">\n",
       "  <thead>\n",
       "    <tr style=\"text-align: right;\">\n",
       "      <th></th>\n",
       "      <th>as_character</th>\n",
       "      <th>leading</th>\n",
       "    </tr>\n",
       "    <tr>\n",
       "      <th>actorid</th>\n",
       "      <th></th>\n",
       "      <th></th>\n",
       "    </tr>\n",
       "  </thead>\n",
       "  <tbody>\n",
       "    <tr>\n",
       "      <th>48805</th>\n",
       "      <td>(voice) (uncredited)  [Red Two]</td>\n",
       "      <td>0</td>\n",
       "    </tr>\n",
       "    <tr>\n",
       "      <th>65783</th>\n",
       "      <td>[Gold Five]  &lt;23&gt;</td>\n",
       "      <td>23</td>\n",
       "    </tr>\n",
       "    <tr>\n",
       "      <th>85263</th>\n",
       "      <td>[R2-D2]  &lt;7&gt;</td>\n",
       "      <td>7</td>\n",
       "    </tr>\n",
       "    <tr>\n",
       "      <th>112876</th>\n",
       "      <td>(voice) (uncredited)  [Stormtrooper]</td>\n",
       "      <td>0</td>\n",
       "    </tr>\n",
       "    <tr>\n",
       "      <th>201345</th>\n",
       "      <td>[Uncle Owen]  &lt;11&gt;</td>\n",
       "      <td>11</td>\n",
       "    </tr>\n",
       "    <tr>\n",
       "      <th>222918</th>\n",
       "      <td>[General Willard]  &lt;15&gt;</td>\n",
       "      <td>15</td>\n",
       "    </tr>\n",
       "    <tr>\n",
       "      <th>345672</th>\n",
       "      <td>[Grand Moff Tarkin]  &lt;4&gt;</td>\n",
       "      <td>4</td>\n",
       "    </tr>\n",
       "    <tr>\n",
       "      <th>356845</th>\n",
       "      <td>[C-3PO]  &lt;6&gt;</td>\n",
       "      <td>6</td>\n",
       "    </tr>\n",
       "    <tr>\n",
       "      <th>511760</th>\n",
       "      <td>[Han Solo]  &lt;2&gt;</td>\n",
       "      <td>2</td>\n",
       "    </tr>\n",
       "    <tr>\n",
       "      <th>619864</th>\n",
       "      <td>[Ben Obi-Wan Kenobi]  &lt;5&gt;</td>\n",
       "      <td>5</td>\n",
       "    </tr>\n",
       "    <tr>\n",
       "      <th>632052</th>\n",
       "      <td>[Red Three (Biggs)]  &lt;18&gt;</td>\n",
       "      <td>18</td>\n",
       "    </tr>\n",
       "    <tr>\n",
       "      <th>638959</th>\n",
       "      <td>[Luke Skywalker]  &lt;1&gt;</td>\n",
       "      <td>1</td>\n",
       "    </tr>\n",
       "    <tr>\n",
       "      <th>673059</th>\n",
       "      <td>[General Taggi]  &lt;24&gt;</td>\n",
       "      <td>24</td>\n",
       "    </tr>\n",
       "    <tr>\n",
       "      <th>674417</th>\n",
       "      <td>(as Drewe Hemley)  [Red Leader]  &lt;16&gt;</td>\n",
       "      <td>16</td>\n",
       "    </tr>\n",
       "    <tr>\n",
       "      <th>705016</th>\n",
       "      <td>[Red Six (Porkins)]  &lt;20&gt;</td>\n",
       "      <td>20</td>\n",
       "    </tr>\n",
       "    <tr>\n",
       "      <th>775508</th>\n",
       "      <td>(voice) (uncredited)  [Darth Vader]</td>\n",
       "      <td>0</td>\n",
       "    </tr>\n",
       "    <tr>\n",
       "      <th>834863</th>\n",
       "      <td>(voice) (uncredited)  [Stormtrooper]</td>\n",
       "      <td>0</td>\n",
       "    </tr>\n",
       "    <tr>\n",
       "      <th>835843</th>\n",
       "      <td>[Red Four (John D.)]  &lt;19&gt;</td>\n",
       "      <td>19</td>\n",
       "    </tr>\n",
       "    <tr>\n",
       "      <th>897716</th>\n",
       "      <td>(as Dennis Lawson)  [Red Two (Wedge)]  &lt;17&gt;</td>\n",
       "      <td>17</td>\n",
       "    </tr>\n",
       "    <tr>\n",
       "      <th>915131</th>\n",
       "      <td>[General Motti]  &lt;25&gt;</td>\n",
       "      <td>25</td>\n",
       "    </tr>\n",
       "    <tr>\n",
       "      <th>967476</th>\n",
       "      <td>(as Angus Mcinnis)  [Gold Leader]  &lt;21&gt;</td>\n",
       "      <td>21</td>\n",
       "    </tr>\n",
       "    <tr>\n",
       "      <th>1022145</th>\n",
       "      <td>[Chewbacca]  &lt;8&gt;</td>\n",
       "      <td>8</td>\n",
       "    </tr>\n",
       "    <tr>\n",
       "      <th>1030182</th>\n",
       "      <td>[General Dodonna]  &lt;14&gt;</td>\n",
       "      <td>14</td>\n",
       "    </tr>\n",
       "    <tr>\n",
       "      <th>1279414</th>\n",
       "      <td>[Darth Vader]  &lt;9&gt;</td>\n",
       "      <td>9</td>\n",
       "    </tr>\n",
       "    <tr>\n",
       "      <th>1283410</th>\n",
       "      <td>[Chief Jawa]  &lt;13&gt;</td>\n",
       "      <td>13</td>\n",
       "    </tr>\n",
       "    <tr>\n",
       "      <th>1421289</th>\n",
       "      <td>[Commander #1]  &lt;26&gt;</td>\n",
       "      <td>26</td>\n",
       "    </tr>\n",
       "    <tr>\n",
       "      <th>1471255</th>\n",
       "      <td>[Gold Two]  &lt;22&gt;</td>\n",
       "      <td>22</td>\n",
       "    </tr>\n",
       "    <tr>\n",
       "      <th>1548133</th>\n",
       "      <td>(voice) (uncredited)  [Cantina Voices]</td>\n",
       "      <td>0</td>\n",
       "    </tr>\n",
       "    <tr>\n",
       "      <th>1548144</th>\n",
       "      <td>(voice) (uncredited)  [Massassi Outpost Announ...</td>\n",
       "      <td>0</td>\n",
       "    </tr>\n",
       "    <tr>\n",
       "      <th>1623789</th>\n",
       "      <td>(voice) (uncredited)  [Stormtrooper]</td>\n",
       "      <td>0</td>\n",
       "    </tr>\n",
       "    <tr>\n",
       "      <th>1677057</th>\n",
       "      <td>(voice) (uncredited)  [Stormtrooper]</td>\n",
       "      <td>0</td>\n",
       "    </tr>\n",
       "    <tr>\n",
       "      <th>1680564</th>\n",
       "      <td>(voice) (uncredited)  [Greedo]</td>\n",
       "      <td>0</td>\n",
       "    </tr>\n",
       "    <tr>\n",
       "      <th>2048328</th>\n",
       "      <td>[Princess Leia Organa]  &lt;3&gt;</td>\n",
       "      <td>3</td>\n",
       "    </tr>\n",
       "    <tr>\n",
       "      <th>2060656</th>\n",
       "      <td>[Aunt Beru]  &lt;12&gt;</td>\n",
       "      <td>12</td>\n",
       "    </tr>\n",
       "  </tbody>\n",
       "</table>\n",
       "</div>"
      ],
      "text/plain": [
       "                                              as_character  leading\n",
       "actorid                                                            \n",
       "48805                      (voice) (uncredited)  [Red Two]        0\n",
       "65783                                    [Gold Five]  <23>       23\n",
       "85263                                         [R2-D2]  <7>        7\n",
       "112876                (voice) (uncredited)  [Stormtrooper]        0\n",
       "201345                                  [Uncle Owen]  <11>       11\n",
       "222918                             [General Willard]  <15>       15\n",
       "345672                            [Grand Moff Tarkin]  <4>        4\n",
       "356845                                        [C-3PO]  <6>        6\n",
       "511760                                     [Han Solo]  <2>        2\n",
       "619864                           [Ben Obi-Wan Kenobi]  <5>        5\n",
       "632052                           [Red Three (Biggs)]  <18>       18\n",
       "638959                               [Luke Skywalker]  <1>        1\n",
       "673059                               [General Taggi]  <24>       24\n",
       "674417               (as Drewe Hemley)  [Red Leader]  <16>       16\n",
       "705016                           [Red Six (Porkins)]  <20>       20\n",
       "775508                 (voice) (uncredited)  [Darth Vader]        0\n",
       "834863                (voice) (uncredited)  [Stormtrooper]        0\n",
       "835843                          [Red Four (John D.)]  <19>       19\n",
       "897716         (as Dennis Lawson)  [Red Two (Wedge)]  <17>       17\n",
       "915131                               [General Motti]  <25>       25\n",
       "967476             (as Angus Mcinnis)  [Gold Leader]  <21>       21\n",
       "1022145                                   [Chewbacca]  <8>        8\n",
       "1030182                            [General Dodonna]  <14>       14\n",
       "1279414                                 [Darth Vader]  <9>        9\n",
       "1283410                                 [Chief Jawa]  <13>       13\n",
       "1421289                               [Commander #1]  <26>       26\n",
       "1471255                                   [Gold Two]  <22>       22\n",
       "1548133             (voice) (uncredited)  [Cantina Voices]        0\n",
       "1548144  (voice) (uncredited)  [Massassi Outpost Announ...        0\n",
       "1623789               (voice) (uncredited)  [Stormtrooper]        0\n",
       "1677057               (voice) (uncredited)  [Stormtrooper]        0\n",
       "1680564                     (voice) (uncredited)  [Greedo]        0\n",
       "2048328                        [Princess Leia Organa]  <3>        3\n",
       "2060656                                  [Aunt Beru]  <12>       12"
      ]
     },
     "execution_count": 111,
     "metadata": {},
     "output_type": "execute_result"
    }
   ],
   "source": [
    "%%time\n",
    "m2a.loc[star_wars]"
   ]
  },
  {
   "attachments": {},
   "cell_type": "markdown",
   "metadata": {},
   "source": [
    "What do you get, when you have only partially addressed the indeces? You get a dataframe. See above!\n",
    "![look up](https://i.giphy.com/media/cUIX3QHGEyfow1QZgw/giphy.gif)"
   ]
  },
  {
   "attachments": {},
   "cell_type": "markdown",
   "metadata": {},
   "source": [
    "What do you get, when you have addressed all levels of indeces? You get a series. See below!\n",
    "![look down](https://i.giphy.com/media/229Ozo6sMl3K69NgwE/giphy.gif)"
   ]
  },
  {
   "cell_type": "code",
   "execution_count": 115,
   "metadata": {},
   "outputs": [
    {
     "name": "stdout",
     "output_type": "stream",
     "text": [
      "<class 'pandas.core.series.Series'>\n"
     ]
    },
    {
     "data": {
      "text/plain": [
       "as_character    [Aunt Beru]  <12>\n",
       "leading                        12\n",
       "Name: (2371726, 2060656), dtype: object"
      ]
     },
     "execution_count": 115,
     "metadata": {},
     "output_type": "execute_result"
    }
   ],
   "source": [
    "aunt_beru = m2a.loc[star_wars, 2060656]\n",
    "print(type(aunt_beru))\n",
    "aunt_beru"
   ]
  },
  {
   "attachments": {},
   "cell_type": "markdown",
   "metadata": {},
   "source": [
    "Index can be moved back (promoted? demoted?) to regular column with reset_index. If no more indeces remain, a 0-based range series is going to be the new index:"
   ]
  },
  {
   "cell_type": "code",
   "execution_count": 116,
   "metadata": {},
   "outputs": [
    {
     "data": {
      "text/html": [
       "<div>\n",
       "<style scoped>\n",
       "    .dataframe tbody tr th:only-of-type {\n",
       "        vertical-align: middle;\n",
       "    }\n",
       "\n",
       "    .dataframe tbody tr th {\n",
       "        vertical-align: top;\n",
       "    }\n",
       "\n",
       "    .dataframe thead th {\n",
       "        text-align: right;\n",
       "    }\n",
       "</style>\n",
       "<table border=\"1\" class=\"dataframe\">\n",
       "  <thead>\n",
       "    <tr style=\"text-align: right;\">\n",
       "      <th></th>\n",
       "      <th>movieid</th>\n",
       "      <th>actorid</th>\n",
       "      <th>as_character</th>\n",
       "      <th>leading</th>\n",
       "    </tr>\n",
       "  </thead>\n",
       "  <tbody>\n",
       "    <tr>\n",
       "      <th>0</th>\n",
       "      <td>1672052</td>\n",
       "      <td>88796</td>\n",
       "      <td>[Court reporter]  &lt;20&gt;</td>\n",
       "      <td>20</td>\n",
       "    </tr>\n",
       "    <tr>\n",
       "      <th>1</th>\n",
       "      <td>1672052</td>\n",
       "      <td>88848</td>\n",
       "      <td>[Col. Ian 'Johnny' Hamilton]  &lt;7&gt;</td>\n",
       "      <td>7</td>\n",
       "    </tr>\n",
       "    <tr>\n",
       "      <th>2</th>\n",
       "      <td>1672052</td>\n",
       "      <td>121878</td>\n",
       "      <td>[Lt. Reed]  &lt;21&gt;</td>\n",
       "      <td>21</td>\n",
       "    </tr>\n",
       "    <tr>\n",
       "      <th>3</th>\n",
       "      <td>1672052</td>\n",
       "      <td>134348</td>\n",
       "      <td>[Large Boer]  &lt;41&gt;</td>\n",
       "      <td>41</td>\n",
       "    </tr>\n",
       "    <tr>\n",
       "      <th>4</th>\n",
       "      <td>1672052</td>\n",
       "      <td>198682</td>\n",
       "      <td>[Lt. Peter Handcock]  &lt;4&gt;</td>\n",
       "      <td>4</td>\n",
       "    </tr>\n",
       "    <tr>\n",
       "      <th>...</th>\n",
       "      <td>...</td>\n",
       "      <td>...</td>\n",
       "      <td>...</td>\n",
       "      <td>...</td>\n",
       "    </tr>\n",
       "    <tr>\n",
       "      <th>138344</th>\n",
       "      <td>2593313</td>\n",
       "      <td>2439175</td>\n",
       "      <td>[Camello en Vespa]  &lt;6&gt;</td>\n",
       "      <td>6</td>\n",
       "    </tr>\n",
       "    <tr>\n",
       "      <th>138345</th>\n",
       "      <td>2593313</td>\n",
       "      <td>2486754</td>\n",
       "      <td>[Farmacéutica]  &lt;12&gt;</td>\n",
       "      <td>12</td>\n",
       "    </tr>\n",
       "    <tr>\n",
       "      <th>138346</th>\n",
       "      <td>2593313</td>\n",
       "      <td>2521993</td>\n",
       "      <td>[Periodista]  &lt;9&gt;</td>\n",
       "      <td>9</td>\n",
       "    </tr>\n",
       "    <tr>\n",
       "      <th>138347</th>\n",
       "      <td>2593313</td>\n",
       "      <td>2568546</td>\n",
       "      <td>[Alma]  &lt;4&gt;</td>\n",
       "      <td>4</td>\n",
       "    </tr>\n",
       "    <tr>\n",
       "      <th>138348</th>\n",
       "      <td>2593313</td>\n",
       "      <td>2633550</td>\n",
       "      <td>[Camello]  &lt;24&gt;</td>\n",
       "      <td>24</td>\n",
       "    </tr>\n",
       "  </tbody>\n",
       "</table>\n",
       "<p>138349 rows × 4 columns</p>\n",
       "</div>"
      ],
      "text/plain": [
       "        movieid  actorid                       as_character  leading\n",
       "0       1672052    88796             [Court reporter]  <20>       20\n",
       "1       1672052    88848  [Col. Ian 'Johnny' Hamilton]  <7>        7\n",
       "2       1672052   121878                   [Lt. Reed]  <21>       21\n",
       "3       1672052   134348                 [Large Boer]  <41>       41\n",
       "4       1672052   198682          [Lt. Peter Handcock]  <4>        4\n",
       "...         ...      ...                                ...      ...\n",
       "138344  2593313  2439175            [Camello en Vespa]  <6>        6\n",
       "138345  2593313  2486754               [Farmacéutica]  <12>       12\n",
       "138346  2593313  2521993                  [Periodista]  <9>        9\n",
       "138347  2593313  2568546                        [Alma]  <4>        4\n",
       "138348  2593313  2633550                    [Camello]  <24>       24\n",
       "\n",
       "[138349 rows x 4 columns]"
      ]
     },
     "execution_count": 116,
     "metadata": {},
     "output_type": "execute_result"
    }
   ],
   "source": [
    "m2a.reset_index()"
   ]
  },
  {
   "attachments": {},
   "cell_type": "markdown",
   "metadata": {},
   "source": [
    "So:\n",
    "\n",
    "`pandas.DataFrame.set_index()` \n",
    "\n",
    "![going down](https://media.tenor.com/1DEtZPIsYN8AAAAC/sliding-going-downstair.gif)\n",
    "\n",
    "moves column **down** 👇 to index\n",
    "\n",
    "__AND__\n",
    "\n",
    "`pandas.DataFrame.reset_index()`\n",
    "\n",
    "![going up](https://forumstatic.oneplusmobile.com/opforum-gl/upload/image/front/thread/20220615/05115/1089200630801104905/1089200630801104905.gif)\n",
    "\n",
    "moves index **up** 👆 to a column\n"
   ]
  },
  {
   "attachments": {},
   "cell_type": "markdown",
   "metadata": {},
   "source": [
    "NB! don't forget to `sort_index()` after `set_index()` - or do... "
   ]
  },
  {
   "attachments": {},
   "cell_type": "markdown",
   "metadata": {},
   "source": [
    "## The rest\n",
    "- head\n",
    "- tail\n",
    "- isnull\n",
    "- notnull\n",
    "- fillnull\n",
    "- sort"
   ]
  },
  {
   "attachments": {},
   "cell_type": "markdown",
   "metadata": {},
   "source": [
    "## Plot\n",
    "When we have an index and a value, it can be plotted. Let's plot the number of movies released by year."
   ]
  },
  {
   "cell_type": "code",
   "execution_count": 58,
   "metadata": {},
   "outputs": [
    {
     "data": {
      "text/plain": [
       "<Axes: >"
      ]
     },
     "execution_count": 58,
     "metadata": {},
     "output_type": "execute_result"
    },
    {
     "data": {
      "image/png": "[encoded data removed]",
      "text/plain": [
       "<Figure size 432x288 with 1 Axes>"
      ]
     },
     "metadata": {
      "needs_background": "light"
     },
     "output_type": "display_data"
    }
   ],
   "source": [
    "movies_df['year'].value_counts().plot()"
   ]
  },
  {
   "attachments": {},
   "cell_type": "markdown",
   "metadata": {},
   "source": [
    "What's going on with the plot? It's lopsided... let's inspect the series:"
   ]
  },
  {
   "cell_type": "code",
   "execution_count": 59,
   "metadata": {},
   "outputs": [
    {
     "data": {
      "text/plain": [
       "1996    332\n",
       "1995    326\n",
       "1998    319\n",
       "1997    311\n",
       "1999    273\n",
       "       ... \n",
       "1898      1\n",
       "2014      1\n",
       "1908      1\n",
       "2001      1\n",
       "2013      1\n",
       "Name: year, Length: 108, dtype: int64"
      ]
     },
     "execution_count": 59,
     "metadata": {},
     "output_type": "execute_result"
    }
   ],
   "source": [
    "# what's going on with the plot, looks lopsided?\n",
    "movies_df['year'].value_counts()"
   ]
  },
  {
   "attachments": {},
   "cell_type": "markdown",
   "metadata": {},
   "source": [
    "It is sorted by frequency, not by year. NB! year is the index, frequency is the value of the series.\n",
    "\n",
    "Let's sort by year and then plot:"
   ]
  },
  {
   "cell_type": "code",
   "execution_count": 60,
   "metadata": {},
   "outputs": [
    {
     "data": {
      "text/plain": [
       "<Axes: >"
      ]
     },
     "execution_count": 60,
     "metadata": {},
     "output_type": "execute_result"
    },
    {
     "data": {
      "image/png": "[encoded data removed]",
      "text/plain": [
       "<Figure size 432x288 with 1 Axes>"
      ]
     },
     "metadata": {
      "needs_background": "light"
     },
     "output_type": "display_data"
    }
   ],
   "source": [
    "# sorted by frequency\n",
    "movies_df['year'].value_counts().sort_index().plot()"
   ]
  },
  {
   "attachments": {},
   "cell_type": "markdown",
   "metadata": {},
   "source": [
    "### Other Plots\n",
    "In a default plot x comes from index, y comes from a serie's values. Override, by eplicitly specifying x, y in plot arguments.\n",
    "\n",
    "Plot kind is a str argument, eg: 'scatter'"
   ]
  },
  {
   "cell_type": "code",
   "execution_count": 82,
   "metadata": {},
   "outputs": [
    {
     "data": {
      "text/plain": [
       "<Axes: xlabel='rank', ylabel='votes'>"
      ]
     },
     "execution_count": 82,
     "metadata": {},
     "output_type": "execute_result"
    },
    {
     "data": {
      "image/png": "[encoded data removed]",
      "text/plain": [
       "<Figure size 432x288 with 1 Axes>"
      ]
     },
     "metadata": {
      "needs_background": "light"
     },
     "output_type": "display_data"
    }
   ],
   "source": [
    "ratings_df.sample(50).plot(x='rank', y='votes', kind='scatter')"
   ]
  },
  {
   "cell_type": "code",
   "execution_count": 78,
   "metadata": {},
   "outputs": [
    {
     "data": {
      "text/plain": [
       "<Axes: >"
      ]
     },
     "execution_count": 78,
     "metadata": {},
     "output_type": "execute_result"
    },
    {
     "data": {
      "image/png": "[encoded data removed]",
      "text/plain": [
       "<Figure size 432x288 with 1 Axes>"
      ]
     },
     "metadata": {
      "needs_background": "light"
     },
     "output_type": "display_data"
    }
   ],
   "source": [
    "ratings_df['rating_bins'] = pd.cut(ratings_df['rank'], bins=20)\n",
    "ratings_df['rating_bins'].value_counts().sort_index().plot(kind='bar')"
   ]
  },
  {
   "attachments": {},
   "cell_type": "markdown",
   "metadata": {},
   "source": [
    "## Exercise I.\n",
    "### How many movies in dataframe?"
   ]
  },
  {
   "cell_type": "code",
   "execution_count": 19,
   "metadata": {},
   "outputs": [
    {
     "name": "stdout",
     "output_type": "stream",
     "text": [
      "3832\n"
     ]
    }
   ],
   "source": [
    "print(\"Total number of movies: \", len(movies_df))"
   ]
  },
  {
   "attachments": {},
   "cell_type": "markdown",
   "metadata": {},
   "source": [
    "### What are the earliest two films?"
   ]
  },
  {
   "cell_type": "code",
   "execution_count": 28,
   "metadata": {},
   "outputs": [
    {
     "data": {
      "text/html": [
       "<div>\n",
       "<style scoped>\n",
       "    .dataframe tbody tr th:only-of-type {\n",
       "        vertical-align: middle;\n",
       "    }\n",
       "\n",
       "    .dataframe tbody tr th {\n",
       "        vertical-align: top;\n",
       "    }\n",
       "\n",
       "    .dataframe thead th {\n",
       "        text-align: right;\n",
       "    }\n",
       "</style>\n",
       "<table border=\"1\" class=\"dataframe\">\n",
       "  <thead>\n",
       "    <tr style=\"text-align: right;\">\n",
       "      <th></th>\n",
       "      <th>title</th>\n",
       "      <th>year</th>\n",
       "    </tr>\n",
       "    <tr>\n",
       "      <th>movieid</th>\n",
       "      <th></th>\n",
       "      <th></th>\n",
       "    </tr>\n",
       "  </thead>\n",
       "  <tbody>\n",
       "    <tr>\n",
       "      <th>2452309</th>\n",
       "      <td>The Lodger (1898)</td>\n",
       "      <td>1898</td>\n",
       "    </tr>\n",
       "    <tr>\n",
       "      <th>1677472</th>\n",
       "      <td>20,000 Leagues Under the Sea (1905)</td>\n",
       "      <td>1905</td>\n",
       "    </tr>\n",
       "  </tbody>\n",
       "</table>\n",
       "</div>"
      ],
      "text/plain": [
       "                                       title  year\n",
       "movieid                                           \n",
       "2452309                    The Lodger (1898)  1898\n",
       "1677472  20,000 Leagues Under the Sea (1905)  1905"
      ]
     },
     "execution_count": 28,
     "metadata": {},
     "output_type": "execute_result"
    }
   ],
   "source": [
    "movies_df.sort_values('year').head(2)"
   ]
  },
  {
   "attachments": {},
   "cell_type": "markdown",
   "metadata": {},
   "source": [
    "### How many movies have the title \"Hamlet\"?"
   ]
  },
  {
   "cell_type": "code",
   "execution_count": 30,
   "metadata": {},
   "outputs": [
    {
     "name": "stdout",
     "output_type": "stream",
     "text": [
      "Number of movies with 'Hamlet' in the title:  5\n"
     ]
    }
   ],
   "source": [
    "hamlets = movies_df[movies_df['title'].str.contains(\"Hamlet\")]\n",
    "print(\"Number of movies with 'Hamlet' in the title: \", len(hamlets))"
   ]
  },
  {
   "attachments": {},
   "cell_type": "markdown",
   "metadata": {},
   "source": [
    "### When was the first movie titled \"Hamlet\" made?"
   ]
  },
  {
   "cell_type": "code",
   "execution_count": 35,
   "metadata": {},
   "outputs": [
    {
     "data": {
      "text/html": [
       "<div>\n",
       "<style scoped>\n",
       "    .dataframe tbody tr th:only-of-type {\n",
       "        vertical-align: middle;\n",
       "    }\n",
       "\n",
       "    .dataframe tbody tr th {\n",
       "        vertical-align: top;\n",
       "    }\n",
       "\n",
       "    .dataframe thead th {\n",
       "        text-align: right;\n",
       "    }\n",
       "</style>\n",
       "<table border=\"1\" class=\"dataframe\">\n",
       "  <thead>\n",
       "    <tr style=\"text-align: right;\">\n",
       "      <th></th>\n",
       "      <th>title</th>\n",
       "      <th>year</th>\n",
       "    </tr>\n",
       "    <tr>\n",
       "      <th>movieid</th>\n",
       "      <th></th>\n",
       "      <th></th>\n",
       "    </tr>\n",
       "  </thead>\n",
       "  <tbody>\n",
       "    <tr>\n",
       "      <th>1984751</th>\n",
       "      <td>Hamlet (1907)</td>\n",
       "      <td>1907</td>\n",
       "    </tr>\n",
       "  </tbody>\n",
       "</table>\n",
       "</div>"
      ],
      "text/plain": [
       "                 title  year\n",
       "movieid                     \n",
       "1984751  Hamlet (1907)  1907"
      ]
     },
     "execution_count": 35,
     "metadata": {},
     "output_type": "execute_result"
    }
   ],
   "source": [
    "hamlets.sort_values('year').head(1)"
   ]
  },
  {
   "attachments": {},
   "cell_type": "markdown",
   "metadata": {},
   "source": [
    "### Number of movies made in 1981"
   ]
  },
  {
   "cell_type": "code",
   "execution_count": 39,
   "metadata": {},
   "outputs": [
    {
     "name": "stdout",
     "output_type": "stream",
     "text": [
      "Number of movies made in '81:  43\n"
     ]
    }
   ],
   "source": [
    "movies_81 = movies_df[movies_df[\"year\"] == 1981].sort_values('year')\n",
    "print(\"Number of movies made in '81: \", len(movies_81))"
   ]
  },
  {
   "attachments": {},
   "cell_type": "markdown",
   "metadata": {},
   "source": [
    "### Number of movies made between 1990 and 1995"
   ]
  },
  {
   "cell_type": "code",
   "execution_count": 41,
   "metadata": {},
   "outputs": [
    {
     "name": "stdout",
     "output_type": "stream",
     "text": [
      "Number of movies made '90–'95:  949\n"
     ]
    }
   ],
   "source": [
    "movies_90_95 = movies_df[(movies_df['year'] >= 1990) & (movies_df['year'] <= 1995)]\n",
    "print(\"Number of movies made '90–'95: \", len(movies_90_95))"
   ]
  },
  {
   "attachments": {},
   "cell_type": "markdown",
   "metadata": {},
   "source": [
    "### How many movie rankings without votes?"
   ]
  },
  {
   "cell_type": "code",
   "execution_count": 52,
   "metadata": {},
   "outputs": [
    {
     "data": {
      "text/html": [
       "<div>\n",
       "<style scoped>\n",
       "    .dataframe tbody tr th:only-of-type {\n",
       "        vertical-align: middle;\n",
       "    }\n",
       "\n",
       "    .dataframe tbody tr th {\n",
       "        vertical-align: top;\n",
       "    }\n",
       "\n",
       "    .dataframe thead th {\n",
       "        text-align: right;\n",
       "    }\n",
       "</style>\n",
       "<table border=\"1\" class=\"dataframe\">\n",
       "  <thead>\n",
       "    <tr style=\"text-align: right;\">\n",
       "      <th></th>\n",
       "      <th>movieid</th>\n",
       "      <th>rank</th>\n",
       "      <th>votes</th>\n",
       "      <th>distribution</th>\n",
       "    </tr>\n",
       "  </thead>\n",
       "  <tbody>\n",
       "    <tr>\n",
       "      <th>22</th>\n",
       "      <td>1682630</td>\n",
       "      <td>8.1</td>\n",
       "      <td>NaN</td>\n",
       "      <td>NaN</td>\n",
       "    </tr>\n",
       "    <tr>\n",
       "      <th>2291</th>\n",
       "      <td>2281612</td>\n",
       "      <td>4.4</td>\n",
       "      <td>NaN</td>\n",
       "      <td>NaN</td>\n",
       "    </tr>\n",
       "  </tbody>\n",
       "</table>\n",
       "</div>"
      ],
      "text/plain": [
       "      movieid  rank  votes distribution\n",
       "22    1682630   8.1    NaN          NaN\n",
       "2291  2281612   4.4    NaN          NaN"
      ]
     },
     "execution_count": 52,
     "metadata": {},
     "output_type": "execute_result"
    }
   ],
   "source": [
    "ratings_df[ratings_df['votes'].isna()]"
   ]
  },
  {
   "attachments": {},
   "cell_type": "markdown",
   "metadata": {},
   "source": [
    "### Display the roles, in leading order, of the 1972 film \"Solyaris\"."
   ]
  },
  {
   "cell_type": "code",
   "execution_count": 68,
   "metadata": {},
   "outputs": [
    {
     "data": {
      "text/plain": [
       "leading\n",
       "1                                           [Hari]  <1>\n",
       "2                                    [Kris Kelvin]  <2>\n",
       "3                                      [Dr. Snaut]  <3>\n",
       "4                                   [Henri Berton]  <4>\n",
       "5                                [Kelvin's Father]  <5>\n",
       "6                                  [Dr. Sartorius]  <6>\n",
       "7           (as O. Barnet)  [Kris Kelvin's Mother]  <7>\n",
       "8           (as V. Kerdimun)  [André Berton's son]  <8>\n",
       "9         (as O. Kizilova)  [Gibarian's she-guest]  <9>\n",
       "10                          [Kris Kelvin's niece]  <10>\n",
       "11    (as A. Misharin)  [Shannahan, Berton's expedit...\n",
       "12          (as B. Oganesyan)  [Professor Trajet]  <12>\n",
       "13                     [Anna, Kris Kelvin's aunt]  <13>\n",
       "14    (as S. Sarkisyan)  [Dr. Gibarian, a physiologi...\n",
       "15    (as Yu. Semyonov)  [Chairman of Investigation ...\n",
       "16            [Kris Kelvin in his early teen-age]  <16>\n",
       "17                               (as V. Sumenova)  <17>\n",
       "18           (as G. Tejkh)  [Professor Messenger]  <18>\n",
       "Name: as_character, dtype: object"
      ]
     },
     "execution_count": 68,
     "metadata": {},
     "output_type": "execute_result"
    }
   ],
   "source": [
    "# get movie id\n",
    "solaris_id = movies_df[movies_df['title'] == \"Solyaris (1972)\"].index.values[0]\n",
    "# find all the roles in solaris\n",
    "# NB! output is a series, not a table\n",
    "movies_actors_df[movies_actors_df['movieid'] == solaris_id].set_index('leading').sort_index()['as_character']\n",
    "# todo! merge the two tables"
   ]
  },
  {
   "attachments": {},
   "cell_type": "markdown",
   "metadata": {},
   "source": [
    "# Part II.\n",
    "\n",
    "- combining datasets\n",
    "- grouping rows\n",
    "- pivots\n",
    "\n",
    "![two](https://media2.giphy.com/media/AE7Qa6j57XuRzeMkgh/giphy.gif)"
   ]
  },
  {
   "attachments": {},
   "cell_type": "markdown",
   "metadata": {},
   "source": [
    "## Merge\n",
    "combines datasets"
   ]
  },
  {
   "cell_type": "code",
   "execution_count": 122,
   "metadata": {},
   "outputs": [
    {
     "data": {
      "text/html": [
       "<div>\n",
       "<style scoped>\n",
       "    .dataframe tbody tr th:only-of-type {\n",
       "        vertical-align: middle;\n",
       "    }\n",
       "\n",
       "    .dataframe tbody tr th {\n",
       "        vertical-align: top;\n",
       "    }\n",
       "\n",
       "    .dataframe thead th {\n",
       "        text-align: right;\n",
       "    }\n",
       "</style>\n",
       "<table border=\"1\" class=\"dataframe\">\n",
       "  <thead>\n",
       "    <tr style=\"text-align: right;\">\n",
       "      <th></th>\n",
       "      <th>actorid</th>\n",
       "      <th>name</th>\n",
       "      <th>sex</th>\n",
       "    </tr>\n",
       "  </thead>\n",
       "  <tbody>\n",
       "    <tr>\n",
       "      <th>0</th>\n",
       "      <td>4</td>\n",
       "      <td>$hort, Too</td>\n",
       "      <td>M</td>\n",
       "    </tr>\n",
       "    <tr>\n",
       "      <th>1</th>\n",
       "      <td>16</td>\n",
       "      <td>'Bear'Boyd, Steven</td>\n",
       "      <td>M</td>\n",
       "    </tr>\n",
       "    <tr>\n",
       "      <th>2</th>\n",
       "      <td>28</td>\n",
       "      <td>'Dead End' Kids, The</td>\n",
       "      <td>M</td>\n",
       "    </tr>\n",
       "    <tr>\n",
       "      <th>3</th>\n",
       "      <td>566</td>\n",
       "      <td>Aaby, Kristian</td>\n",
       "      <td>M</td>\n",
       "    </tr>\n",
       "    <tr>\n",
       "      <th>4</th>\n",
       "      <td>580</td>\n",
       "      <td>Aadil</td>\n",
       "      <td>M</td>\n",
       "    </tr>\n",
       "    <tr>\n",
       "      <th>...</th>\n",
       "      <td>...</td>\n",
       "      <td>...</td>\n",
       "      <td>...</td>\n",
       "    </tr>\n",
       "    <tr>\n",
       "      <th>98685</th>\n",
       "      <td>2749162</td>\n",
       "      <td>Ôshima, Akiyo</td>\n",
       "      <td>F</td>\n",
       "    </tr>\n",
       "    <tr>\n",
       "      <th>98686</th>\n",
       "      <td>2749168</td>\n",
       "      <td>Ôshima, Yukari</td>\n",
       "      <td>F</td>\n",
       "    </tr>\n",
       "    <tr>\n",
       "      <th>98687</th>\n",
       "      <td>2749204</td>\n",
       "      <td>Ôtani, Ikue</td>\n",
       "      <td>F</td>\n",
       "    </tr>\n",
       "    <tr>\n",
       "      <th>98688</th>\n",
       "      <td>2749377</td>\n",
       "      <td>Örnólfsdóttir, Álfrún</td>\n",
       "      <td>F</td>\n",
       "    </tr>\n",
       "    <tr>\n",
       "      <th>98689</th>\n",
       "      <td>2749386</td>\n",
       "      <td>Öss, Eniko</td>\n",
       "      <td>F</td>\n",
       "    </tr>\n",
       "  </tbody>\n",
       "</table>\n",
       "<p>98690 rows × 3 columns</p>\n",
       "</div>"
      ],
      "text/plain": [
       "       actorid                   name sex\n",
       "0            4             $hort, Too   M\n",
       "1           16     'Bear'Boyd, Steven   M\n",
       "2           28   'Dead End' Kids, The   M\n",
       "3          566         Aaby, Kristian   M\n",
       "4          580                  Aadil   M\n",
       "...        ...                    ...  ..\n",
       "98685  2749162          Ôshima, Akiyo   F\n",
       "98686  2749168         Ôshima, Yukari   F\n",
       "98687  2749204            Ôtani, Ikue   F\n",
       "98688  2749377  Örnólfsdóttir, Álfrún   F\n",
       "98689  2749386             Öss, Eniko   F\n",
       "\n",
       "[98690 rows x 3 columns]"
      ]
     },
     "execution_count": 122,
     "metadata": {},
     "output_type": "execute_result"
    }
   ],
   "source": [
    "actors_df"
   ]
  },
  {
   "cell_type": "code",
   "execution_count": 126,
   "metadata": {},
   "outputs": [
    {
     "data": {
      "text/html": [
       "<div>\n",
       "<style scoped>\n",
       "    .dataframe tbody tr th:only-of-type {\n",
       "        vertical-align: middle;\n",
       "    }\n",
       "\n",
       "    .dataframe tbody tr th {\n",
       "        vertical-align: top;\n",
       "    }\n",
       "\n",
       "    .dataframe thead th {\n",
       "        text-align: right;\n",
       "    }\n",
       "</style>\n",
       "<table border=\"1\" class=\"dataframe\">\n",
       "  <thead>\n",
       "    <tr style=\"text-align: right;\">\n",
       "      <th></th>\n",
       "      <th>movieid</th>\n",
       "      <th>title</th>\n",
       "      <th>year</th>\n",
       "      <th>actorid</th>\n",
       "      <th>as_character</th>\n",
       "      <th>leading</th>\n",
       "      <th>name</th>\n",
       "      <th>sex</th>\n",
       "    </tr>\n",
       "  </thead>\n",
       "  <tbody>\n",
       "    <tr>\n",
       "      <th>0</th>\n",
       "      <td>1672052</td>\n",
       "      <td>'Breaker' Morant (1980)</td>\n",
       "      <td>1980</td>\n",
       "      <td>88796</td>\n",
       "      <td>[Court reporter]  &lt;20&gt;</td>\n",
       "      <td>20</td>\n",
       "      <td>Ball, Ray (I)</td>\n",
       "      <td>M</td>\n",
       "    </tr>\n",
       "    <tr>\n",
       "      <th>1</th>\n",
       "      <td>1672052</td>\n",
       "      <td>'Breaker' Morant (1980)</td>\n",
       "      <td>1980</td>\n",
       "      <td>88848</td>\n",
       "      <td>[Col. Ian 'Johnny' Hamilton]  &lt;7&gt;</td>\n",
       "      <td>7</td>\n",
       "      <td>Ball, Vincent (I)</td>\n",
       "      <td>M</td>\n",
       "    </tr>\n",
       "    <tr>\n",
       "      <th>2</th>\n",
       "      <td>2190900</td>\n",
       "      <td>Muriel's Wedding (1994)</td>\n",
       "      <td>1994</td>\n",
       "      <td>88848</td>\n",
       "      <td>[Priest]  &lt;56&gt;</td>\n",
       "      <td>56</td>\n",
       "      <td>Ball, Vincent (I)</td>\n",
       "      <td>M</td>\n",
       "    </tr>\n",
       "    <tr>\n",
       "      <th>3</th>\n",
       "      <td>2247366</td>\n",
       "      <td>Paradise Road (1997)</td>\n",
       "      <td>1997</td>\n",
       "      <td>88848</td>\n",
       "      <td>[Mr. Dickson]  &lt;27&gt;</td>\n",
       "      <td>27</td>\n",
       "      <td>Ball, Vincent (I)</td>\n",
       "      <td>M</td>\n",
       "    </tr>\n",
       "    <tr>\n",
       "      <th>4</th>\n",
       "      <td>2350992</td>\n",
       "      <td>Sirens (1993)</td>\n",
       "      <td>1993</td>\n",
       "      <td>88848</td>\n",
       "      <td>[Bishop of Sydney]  &lt;13&gt;</td>\n",
       "      <td>13</td>\n",
       "      <td>Ball, Vincent (I)</td>\n",
       "      <td>M</td>\n",
       "    </tr>\n",
       "    <tr>\n",
       "      <th>...</th>\n",
       "      <td>...</td>\n",
       "      <td>...</td>\n",
       "      <td>...</td>\n",
       "      <td>...</td>\n",
       "      <td>...</td>\n",
       "      <td>...</td>\n",
       "      <td>...</td>\n",
       "      <td>...</td>\n",
       "    </tr>\n",
       "    <tr>\n",
       "      <th>138344</th>\n",
       "      <td>2593313</td>\n",
       "      <td>Átame! (1990)</td>\n",
       "      <td>1990</td>\n",
       "      <td>2099917</td>\n",
       "      <td>(as Almudena Gracia)  [Enfermera]  &lt;25&gt;</td>\n",
       "      <td>25</td>\n",
       "      <td>Gracia, Malena</td>\n",
       "      <td>F</td>\n",
       "    </tr>\n",
       "    <tr>\n",
       "      <th>138345</th>\n",
       "      <td>2593313</td>\n",
       "      <td>Átame! (1990)</td>\n",
       "      <td>1990</td>\n",
       "      <td>2438134</td>\n",
       "      <td>[Hija de Lola]  &lt;20&gt;</td>\n",
       "      <td>20</td>\n",
       "      <td>Pajuelo, Francisca</td>\n",
       "      <td>F</td>\n",
       "    </tr>\n",
       "    <tr>\n",
       "      <th>138346</th>\n",
       "      <td>2593313</td>\n",
       "      <td>Átame! (1990)</td>\n",
       "      <td>1990</td>\n",
       "      <td>2486754</td>\n",
       "      <td>[Farmacéutica]  &lt;12&gt;</td>\n",
       "      <td>12</td>\n",
       "      <td>Rabal, Concha</td>\n",
       "      <td>F</td>\n",
       "    </tr>\n",
       "    <tr>\n",
       "      <th>138347</th>\n",
       "      <td>2593313</td>\n",
       "      <td>Átame! (1990)</td>\n",
       "      <td>1990</td>\n",
       "      <td>2521993</td>\n",
       "      <td>[Periodista]  &lt;9&gt;</td>\n",
       "      <td>9</td>\n",
       "      <td>Romeu, Montse G.</td>\n",
       "      <td>F</td>\n",
       "    </tr>\n",
       "    <tr>\n",
       "      <th>138348</th>\n",
       "      <td>2593313</td>\n",
       "      <td>Átame! (1990)</td>\n",
       "      <td>1990</td>\n",
       "      <td>2633550</td>\n",
       "      <td>[Camello]  &lt;24&gt;</td>\n",
       "      <td>24</td>\n",
       "      <td>Tamaki (I)</td>\n",
       "      <td>F</td>\n",
       "    </tr>\n",
       "  </tbody>\n",
       "</table>\n",
       "<p>138349 rows × 8 columns</p>\n",
       "</div>"
      ],
      "text/plain": [
       "        movieid                    title  year  actorid  \\\n",
       "0       1672052  'Breaker' Morant (1980)  1980    88796   \n",
       "1       1672052  'Breaker' Morant (1980)  1980    88848   \n",
       "2       2190900  Muriel's Wedding (1994)  1994    88848   \n",
       "3       2247366     Paradise Road (1997)  1997    88848   \n",
       "4       2350992            Sirens (1993)  1993    88848   \n",
       "...         ...                      ...   ...      ...   \n",
       "138344  2593313            Átame! (1990)  1990  2099917   \n",
       "138345  2593313            Átame! (1990)  1990  2438134   \n",
       "138346  2593313            Átame! (1990)  1990  2486754   \n",
       "138347  2593313            Átame! (1990)  1990  2521993   \n",
       "138348  2593313            Átame! (1990)  1990  2633550   \n",
       "\n",
       "                                   as_character  leading                name  \\\n",
       "0                        [Court reporter]  <20>       20       Ball, Ray (I)   \n",
       "1             [Col. Ian 'Johnny' Hamilton]  <7>        7   Ball, Vincent (I)   \n",
       "2                                [Priest]  <56>       56   Ball, Vincent (I)   \n",
       "3                           [Mr. Dickson]  <27>       27   Ball, Vincent (I)   \n",
       "4                      [Bishop of Sydney]  <13>       13   Ball, Vincent (I)   \n",
       "...                                         ...      ...                 ...   \n",
       "138344  (as Almudena Gracia)  [Enfermera]  <25>       25      Gracia, Malena   \n",
       "138345                     [Hija de Lola]  <20>       20  Pajuelo, Francisca   \n",
       "138346                     [Farmacéutica]  <12>       12       Rabal, Concha   \n",
       "138347                        [Periodista]  <9>        9    Romeu, Montse G.   \n",
       "138348                          [Camello]  <24>       24          Tamaki (I)   \n",
       "\n",
       "       sex  \n",
       "0        M  \n",
       "1        M  \n",
       "2        M  \n",
       "3        M  \n",
       "4        M  \n",
       "...     ..  \n",
       "138344   F  \n",
       "138345   F  \n",
       "138346   F  \n",
       "138347   F  \n",
       "138348   F  \n",
       "\n",
       "[138349 rows x 8 columns]"
      ]
     },
     "execution_count": 126,
     "metadata": {},
     "output_type": "execute_result"
    }
   ],
   "source": [
    "movies_denorm = movies_df \\\n",
    "    .merge(movies_actors_df, on='movieid') \\\n",
    "    .merge(actors_df, on='actorid')\n",
    "movies_denorm"
   ]
  },
  {
   "attachments": {},
   "cell_type": "markdown",
   "metadata": {},
   "source": [
    "## GroupBy\n",
    "\n",
    "groups by (duh!) values in columns, setting up one, or multiple levels of indeces"
   ]
  },
  {
   "cell_type": "code",
   "execution_count": 129,
   "metadata": {},
   "outputs": [
    {
     "data": {
      "text/plain": [
       "<pandas.core.groupby.generic.DataFrameGroupBy object at 0x15b44d450>"
      ]
     },
     "execution_count": 129,
     "metadata": {},
     "output_type": "execute_result"
    }
   ],
   "source": [
    "movies_denorm.groupby(['name', 'year'])"
   ]
  },
  {
   "attachments": {},
   "cell_type": "markdown",
   "metadata": {},
   "source": [
    "When we group, the rest of the columns need some kind of aggregation. Eg.:\n",
    "- size: how many rows got grouped together\n",
    "- min\n",
    "- max\n",
    "- ...\n",
    "- transform"
   ]
  },
  {
   "cell_type": "code",
   "execution_count": 135,
   "metadata": {},
   "outputs": [
    {
     "data": {
      "text/plain": [
       "name               year  title                                   \n",
       "Clooney, George    1996  From Dusk Till Dawn (1996)                  1\n",
       "                         One Fine Day (1996)                         1\n",
       "                   1997  Batman & Robin (1997)                       1\n",
       "                         Full Tilt Boogie (1997)                     1\n",
       "                         The Peacemaker (1997)                       1\n",
       "                   1998  Out of Sight (1998)                         1\n",
       "                         The Thin Red Line (1998)                    1\n",
       "                   1999  South Park: Bigger Longer & Uncut (1999)    1\n",
       "                         The Limey (1999)                            1\n",
       "                         Three Kings (1999)                          1\n",
       "                   2000  The Perfect Storm (2000)                    1\n",
       "Clooney, Rosemary  1954  White Christmas (1954)                      1\n",
       "                   1994  Radioland Murders (1994)                    1\n",
       "dtype: int64"
      ]
     },
     "execution_count": 135,
     "metadata": {},
     "output_type": "execute_result"
    }
   ],
   "source": [
    "movies_denorm[movies_denorm['name'].str.contains('Clooney')] \\\n",
    "    .groupby(['name', 'year', 'title'])  \\\n",
    "    .size()"
   ]
  },
  {
   "attachments": {},
   "cell_type": "markdown",
   "metadata": {},
   "source": [
    "Note how the indexes are sorted as an outcome of groupby!"
   ]
  },
  {
   "attachments": {},
   "cell_type": "markdown",
   "metadata": {},
   "source": [
    "or we can plot the number of roles George Clooney had in each year:"
   ]
  },
  {
   "cell_type": "code",
   "execution_count": 137,
   "metadata": {},
   "outputs": [
    {
     "data": {
      "text/plain": [
       "<Axes: xlabel='year'>"
      ]
     },
     "execution_count": 137,
     "metadata": {},
     "output_type": "execute_result"
    },
    {
     "data": {
      "image/png": "[encoded data removed]",
      "text/plain": [
       "<Figure size 432x288 with 1 Axes>"
      ]
     },
     "metadata": {
      "needs_background": "light"
     },
     "output_type": "display_data"
    }
   ],
   "source": [
    "movies_denorm[movies_denorm['name'] == 'Clooney, George']  \\\n",
    "    .groupby('year')  \\\n",
    "    .size()  \\\n",
    "    .plot(kind='bar')\n"
   ]
  },
  {
   "attachments": {},
   "cell_type": "markdown",
   "metadata": {},
   "source": [
    "Or we can see what the worst role is by year:"
   ]
  },
  {
   "cell_type": "code",
   "execution_count": 143,
   "metadata": {},
   "outputs": [
    {
     "data": {
      "text/plain": [
       "<Axes: xlabel='year'>"
      ]
     },
     "execution_count": 143,
     "metadata": {},
     "output_type": "execute_result"
    },
    {
     "data": {
      "image/png": "[encoded data removed]",
      "text/plain": [
       "<Figure size 432x288 with 1 Axes>"
      ]
     },
     "metadata": {
      "needs_background": "light"
     },
     "output_type": "display_data"
    }
   ],
   "source": [
    "movies_denorm[movies_denorm['name'] == 'Clooney, George']  \\\n",
    "    .groupby('year')  \\\n",
    "    .max('leading')  \\\n",
    "    .drop(columns=['movieid', 'actorid'])  \\\n",
    "    .plot(kind='bar')\n"
   ]
  },
  {
   "attachments": {},
   "cell_type": "markdown",
   "metadata": {},
   "source": [
    "or use `.agg()` to pass in multiple aggregation functions:"
   ]
  },
  {
   "cell_type": "code",
   "execution_count": 154,
   "metadata": {},
   "outputs": [
    {
     "data": {
      "text/plain": [
       "<Axes: xlabel='year'>"
      ]
     },
     "execution_count": 154,
     "metadata": {},
     "output_type": "execute_result"
    },
    {
     "data": {
      "image/png": "[encoded data removed]",
      "text/plain": [
       "<Figure size 432x288 with 1 Axes>"
      ]
     },
     "metadata": {
      "needs_background": "light"
     },
     "output_type": "display_data"
    }
   ],
   "source": [
    "# george clooney's most and least important roles by year\n",
    "movies_denorm[movies_denorm['name'] == 'Clooney, George']  \\\n",
    "    .groupby('year')  \\\n",
    "    .agg(['min', 'max'])['leading']  \\\n",
    "    .plot(kind='bar')\n"
   ]
  },
  {
   "attachments": {},
   "cell_type": "markdown",
   "metadata": {},
   "source": [
    "Groupby does not necessarily need a column name. It can group by any series, even if that is not part of the dataframe. For example, let's group by decade"
   ]
  },
  {
   "cell_type": "code",
   "execution_count": 150,
   "metadata": {},
   "outputs": [
    {
     "data": {
      "text/plain": [
       "<Axes: xlabel='year'>"
      ]
     },
     "execution_count": 150,
     "metadata": {},
     "output_type": "execute_result"
    },
    {
     "data": {
      "image/png": "[encoded data removed]",
      "text/plain": [
       "<Figure size 432x288 with 1 Axes>"
      ]
     },
     "metadata": {
      "needs_background": "light"
     },
     "output_type": "display_data"
    }
   ],
   "source": [
    "movies_df  \\\n",
    "    .groupby(movies_df['year'] // 10 * 10)  \\\n",
    "    .size()  \\\n",
    "    .plot(kind='bar')"
   ]
  },
  {
   "attachments": {},
   "cell_type": "markdown",
   "metadata": {},
   "source": [
    "## Pivots\n",
    "- turning column values into columns\n",
    "- turning column names into values"
   ]
  },
  {
   "attachments": {},
   "cell_type": "markdown",
   "metadata": {},
   "source": [
    "Let's compare the number of actors vs actresses by decade:"
   ]
  },
  {
   "cell_type": "code",
   "execution_count": 162,
   "metadata": {},
   "outputs": [
    {
     "data": {
      "text/plain": [
       "year  kind   \n",
       "1900  actor          2\n",
       "      actress        2\n",
       "1910  actor         62\n",
       "      actress       37\n",
       "1920  actor        210\n",
       "      actress      111\n",
       "1930  actor        835\n",
       "      actress      324\n",
       "1940  actor       1488\n",
       "      actress      530\n",
       "1950  actor       1977\n",
       "      actress      753\n",
       "1960  actor       2826\n",
       "      actress     1132\n",
       "1970  actor       5924\n",
       "      actress     2135\n",
       "1980  actor      16843\n",
       "      actress     7024\n",
       "1990  actor      60679\n",
       "      actress    28654\n",
       "2000  actor       4380\n",
       "      actress     2340\n",
       "2010  actor         53\n",
       "      actress       28\n",
       "dtype: int64"
      ]
     },
     "execution_count": 162,
     "metadata": {},
     "output_type": "execute_result"
    }
   ],
   "source": [
    "actors_actressess_by_decade = movies_denorm  \\\n",
    "    .groupby([\n",
    "        movies_denorm['year'] // 10 * 10, \n",
    "        movies_denorm['sex'].map(lambda _: \"actor\" if _ == \"M\" else \"actress\").rename(\"kind\")\n",
    "    ])  \\\n",
    "    .size()\n",
    "actors_actressess_by_decade"
   ]
  },
  {
   "attachments": {},
   "cell_type": "markdown",
   "metadata": {},
   "source": [
    "For comparison, we want 'kind' to be a column: use `.unstack` to move values __up__ from the index into column names: "
   ]
  },
  {
   "cell_type": "code",
   "execution_count": 163,
   "metadata": {},
   "outputs": [
    {
     "data": {
      "text/html": [
       "<div>\n",
       "<style scoped>\n",
       "    .dataframe tbody tr th:only-of-type {\n",
       "        vertical-align: middle;\n",
       "    }\n",
       "\n",
       "    .dataframe tbody tr th {\n",
       "        vertical-align: top;\n",
       "    }\n",
       "\n",
       "    .dataframe thead th {\n",
       "        text-align: right;\n",
       "    }\n",
       "</style>\n",
       "<table border=\"1\" class=\"dataframe\">\n",
       "  <thead>\n",
       "    <tr style=\"text-align: right;\">\n",
       "      <th>kind</th>\n",
       "      <th>actor</th>\n",
       "      <th>actress</th>\n",
       "    </tr>\n",
       "    <tr>\n",
       "      <th>year</th>\n",
       "      <th></th>\n",
       "      <th></th>\n",
       "    </tr>\n",
       "  </thead>\n",
       "  <tbody>\n",
       "    <tr>\n",
       "      <th>1900</th>\n",
       "      <td>2</td>\n",
       "      <td>2</td>\n",
       "    </tr>\n",
       "    <tr>\n",
       "      <th>1910</th>\n",
       "      <td>62</td>\n",
       "      <td>37</td>\n",
       "    </tr>\n",
       "    <tr>\n",
       "      <th>1920</th>\n",
       "      <td>210</td>\n",
       "      <td>111</td>\n",
       "    </tr>\n",
       "    <tr>\n",
       "      <th>1930</th>\n",
       "      <td>835</td>\n",
       "      <td>324</td>\n",
       "    </tr>\n",
       "    <tr>\n",
       "      <th>1940</th>\n",
       "      <td>1488</td>\n",
       "      <td>530</td>\n",
       "    </tr>\n",
       "    <tr>\n",
       "      <th>1950</th>\n",
       "      <td>1977</td>\n",
       "      <td>753</td>\n",
       "    </tr>\n",
       "    <tr>\n",
       "      <th>1960</th>\n",
       "      <td>2826</td>\n",
       "      <td>1132</td>\n",
       "    </tr>\n",
       "    <tr>\n",
       "      <th>1970</th>\n",
       "      <td>5924</td>\n",
       "      <td>2135</td>\n",
       "    </tr>\n",
       "    <tr>\n",
       "      <th>1980</th>\n",
       "      <td>16843</td>\n",
       "      <td>7024</td>\n",
       "    </tr>\n",
       "    <tr>\n",
       "      <th>1990</th>\n",
       "      <td>60679</td>\n",
       "      <td>28654</td>\n",
       "    </tr>\n",
       "    <tr>\n",
       "      <th>2000</th>\n",
       "      <td>4380</td>\n",
       "      <td>2340</td>\n",
       "    </tr>\n",
       "    <tr>\n",
       "      <th>2010</th>\n",
       "      <td>53</td>\n",
       "      <td>28</td>\n",
       "    </tr>\n",
       "  </tbody>\n",
       "</table>\n",
       "</div>"
      ],
      "text/plain": [
       "kind  actor  actress\n",
       "year                \n",
       "1900      2        2\n",
       "1910     62       37\n",
       "1920    210      111\n",
       "1930    835      324\n",
       "1940   1488      530\n",
       "1950   1977      753\n",
       "1960   2826     1132\n",
       "1970   5924     2135\n",
       "1980  16843     7024\n",
       "1990  60679    28654\n",
       "2000   4380     2340\n",
       "2010     53       28"
      ]
     },
     "execution_count": 163,
     "metadata": {},
     "output_type": "execute_result"
    }
   ],
   "source": [
    "actors_actressess_by_decade.unstack()"
   ]
  },
  {
   "attachments": {},
   "cell_type": "markdown",
   "metadata": {},
   "source": [
    "NB! kind, before the unstack is an index:"
   ]
  },
  {
   "cell_type": "code",
   "execution_count": 187,
   "metadata": {},
   "outputs": [
    {
     "data": {
      "text/plain": [
       "FrozenList(['year', 'kind'])"
      ]
     },
     "execution_count": 187,
     "metadata": {},
     "output_type": "execute_result"
    }
   ],
   "source": [
    "actors_actressess_by_decade.index.names"
   ]
  },
  {
   "cell_type": "code",
   "execution_count": 167,
   "metadata": {},
   "outputs": [
    {
     "data": {
      "text/plain": [
       "<Axes: xlabel='year'>"
      ]
     },
     "execution_count": 167,
     "metadata": {},
     "output_type": "execute_result"
    },
    {
     "data": {
      "image/png": "[encoded data removed]",
      "text/plain": [
       "<Figure size 432x288 with 1 Axes>"
      ]
     },
     "metadata": {
      "needs_background": "light"
     },
     "output_type": "display_data"
    }
   ],
   "source": [
    "actors_actressess_by_decade.unstack().plot(kind='bar', logy=True)"
   ]
  },
  {
   "attachments": {},
   "cell_type": "markdown",
   "metadata": {},
   "source": [
    "We can then, for example, compute a column with the difference in the number of male and female roles by decade:"
   ]
  },
  {
   "cell_type": "code",
   "execution_count": 171,
   "metadata": {},
   "outputs": [
    {
     "data": {
      "text/html": [
       "<div>\n",
       "<style scoped>\n",
       "    .dataframe tbody tr th:only-of-type {\n",
       "        vertical-align: middle;\n",
       "    }\n",
       "\n",
       "    .dataframe tbody tr th {\n",
       "        vertical-align: top;\n",
       "    }\n",
       "\n",
       "    .dataframe thead th {\n",
       "        text-align: right;\n",
       "    }\n",
       "</style>\n",
       "<table border=\"1\" class=\"dataframe\">\n",
       "  <thead>\n",
       "    <tr style=\"text-align: right;\">\n",
       "      <th>kind</th>\n",
       "      <th>actor</th>\n",
       "      <th>actress</th>\n",
       "      <th>diff</th>\n",
       "    </tr>\n",
       "    <tr>\n",
       "      <th>year</th>\n",
       "      <th></th>\n",
       "      <th></th>\n",
       "      <th></th>\n",
       "    </tr>\n",
       "  </thead>\n",
       "  <tbody>\n",
       "    <tr>\n",
       "      <th>1900</th>\n",
       "      <td>2</td>\n",
       "      <td>2</td>\n",
       "      <td>0</td>\n",
       "    </tr>\n",
       "    <tr>\n",
       "      <th>1910</th>\n",
       "      <td>62</td>\n",
       "      <td>37</td>\n",
       "      <td>25</td>\n",
       "    </tr>\n",
       "    <tr>\n",
       "      <th>1920</th>\n",
       "      <td>210</td>\n",
       "      <td>111</td>\n",
       "      <td>99</td>\n",
       "    </tr>\n",
       "    <tr>\n",
       "      <th>1930</th>\n",
       "      <td>835</td>\n",
       "      <td>324</td>\n",
       "      <td>511</td>\n",
       "    </tr>\n",
       "    <tr>\n",
       "      <th>1940</th>\n",
       "      <td>1488</td>\n",
       "      <td>530</td>\n",
       "      <td>958</td>\n",
       "    </tr>\n",
       "    <tr>\n",
       "      <th>1950</th>\n",
       "      <td>1977</td>\n",
       "      <td>753</td>\n",
       "      <td>1224</td>\n",
       "    </tr>\n",
       "    <tr>\n",
       "      <th>1960</th>\n",
       "      <td>2826</td>\n",
       "      <td>1132</td>\n",
       "      <td>1694</td>\n",
       "    </tr>\n",
       "    <tr>\n",
       "      <th>1970</th>\n",
       "      <td>5924</td>\n",
       "      <td>2135</td>\n",
       "      <td>3789</td>\n",
       "    </tr>\n",
       "    <tr>\n",
       "      <th>1980</th>\n",
       "      <td>16843</td>\n",
       "      <td>7024</td>\n",
       "      <td>9819</td>\n",
       "    </tr>\n",
       "    <tr>\n",
       "      <th>1990</th>\n",
       "      <td>60679</td>\n",
       "      <td>28654</td>\n",
       "      <td>32025</td>\n",
       "    </tr>\n",
       "    <tr>\n",
       "      <th>2000</th>\n",
       "      <td>4380</td>\n",
       "      <td>2340</td>\n",
       "      <td>2040</td>\n",
       "    </tr>\n",
       "    <tr>\n",
       "      <th>2010</th>\n",
       "      <td>53</td>\n",
       "      <td>28</td>\n",
       "      <td>25</td>\n",
       "    </tr>\n",
       "  </tbody>\n",
       "</table>\n",
       "</div>"
      ],
      "text/plain": [
       "kind  actor  actress   diff\n",
       "year                       \n",
       "1900      2        2      0\n",
       "1910     62       37     25\n",
       "1920    210      111     99\n",
       "1930    835      324    511\n",
       "1940   1488      530    958\n",
       "1950   1977      753   1224\n",
       "1960   2826     1132   1694\n",
       "1970   5924     2135   3789\n",
       "1980  16843     7024   9819\n",
       "1990  60679    28654  32025\n",
       "2000   4380     2340   2040\n",
       "2010     53       28     25"
      ]
     },
     "execution_count": 171,
     "metadata": {},
     "output_type": "execute_result"
    }
   ],
   "source": [
    "aa = actors_actressess_by_decade.unstack()\n",
    "aa['diff'] = aa['actor'] - aa['actress']\n",
    "aa"
   ]
  },
  {
   "cell_type": "code",
   "execution_count": 172,
   "metadata": {},
   "outputs": [
    {
     "data": {
      "text/plain": [
       "<Axes: xlabel='year'>"
      ]
     },
     "execution_count": 172,
     "metadata": {},
     "output_type": "execute_result"
    },
    {
     "data": {
      "image/png": "[encoded data removed]",
      "text/plain": [
       "<Figure size 432x288 with 1 Axes>"
      ]
     },
     "metadata": {
      "needs_background": "light"
     },
     "output_type": "display_data"
    }
   ],
   "source": [
    "aa['diff'].plot()"
   ]
  },
  {
   "attachments": {},
   "cell_type": "markdown",
   "metadata": {},
   "source": [
    "What if we wanted it the other way around? Kind in the index, decades in the columns? `unstack()` by default moves up the innermost index, override with param `level` "
   ]
  },
  {
   "cell_type": "code",
   "execution_count": 173,
   "metadata": {},
   "outputs": [
    {
     "data": {
      "text/html": [
       "<div>\n",
       "<style scoped>\n",
       "    .dataframe tbody tr th:only-of-type {\n",
       "        vertical-align: middle;\n",
       "    }\n",
       "\n",
       "    .dataframe tbody tr th {\n",
       "        vertical-align: top;\n",
       "    }\n",
       "\n",
       "    .dataframe thead th {\n",
       "        text-align: right;\n",
       "    }\n",
       "</style>\n",
       "<table border=\"1\" class=\"dataframe\">\n",
       "  <thead>\n",
       "    <tr style=\"text-align: right;\">\n",
       "      <th>year</th>\n",
       "      <th>1900</th>\n",
       "      <th>1910</th>\n",
       "      <th>1920</th>\n",
       "      <th>1930</th>\n",
       "      <th>1940</th>\n",
       "      <th>1950</th>\n",
       "      <th>1960</th>\n",
       "      <th>1970</th>\n",
       "      <th>1980</th>\n",
       "      <th>1990</th>\n",
       "      <th>2000</th>\n",
       "      <th>2010</th>\n",
       "    </tr>\n",
       "    <tr>\n",
       "      <th>kind</th>\n",
       "      <th></th>\n",
       "      <th></th>\n",
       "      <th></th>\n",
       "      <th></th>\n",
       "      <th></th>\n",
       "      <th></th>\n",
       "      <th></th>\n",
       "      <th></th>\n",
       "      <th></th>\n",
       "      <th></th>\n",
       "      <th></th>\n",
       "      <th></th>\n",
       "    </tr>\n",
       "  </thead>\n",
       "  <tbody>\n",
       "    <tr>\n",
       "      <th>actor</th>\n",
       "      <td>2</td>\n",
       "      <td>62</td>\n",
       "      <td>210</td>\n",
       "      <td>835</td>\n",
       "      <td>1488</td>\n",
       "      <td>1977</td>\n",
       "      <td>2826</td>\n",
       "      <td>5924</td>\n",
       "      <td>16843</td>\n",
       "      <td>60679</td>\n",
       "      <td>4380</td>\n",
       "      <td>53</td>\n",
       "    </tr>\n",
       "    <tr>\n",
       "      <th>actress</th>\n",
       "      <td>2</td>\n",
       "      <td>37</td>\n",
       "      <td>111</td>\n",
       "      <td>324</td>\n",
       "      <td>530</td>\n",
       "      <td>753</td>\n",
       "      <td>1132</td>\n",
       "      <td>2135</td>\n",
       "      <td>7024</td>\n",
       "      <td>28654</td>\n",
       "      <td>2340</td>\n",
       "      <td>28</td>\n",
       "    </tr>\n",
       "  </tbody>\n",
       "</table>\n",
       "</div>"
      ],
      "text/plain": [
       "year     1900  1910  1920  1930  1940  1950  1960  1970   1980   1990  2000  \\\n",
       "kind                                                                          \n",
       "actor       2    62   210   835  1488  1977  2826  5924  16843  60679  4380   \n",
       "actress     2    37   111   324   530   753  1132  2135   7024  28654  2340   \n",
       "\n",
       "year     2010  \n",
       "kind           \n",
       "actor      53  \n",
       "actress    28  "
      ]
     },
     "execution_count": 173,
     "metadata": {},
     "output_type": "execute_result"
    }
   ],
   "source": [
    "year_by_kind = actors_actressess_by_decade.unstack(level=0)\n",
    "year_by_kind"
   ]
  },
  {
   "attachments": {},
   "cell_type": "markdown",
   "metadata": {},
   "source": [
    "Reverse operation of `unstack` is, surprisingly, `stack`:"
   ]
  },
  {
   "cell_type": "code",
   "execution_count": 174,
   "metadata": {},
   "outputs": [
    {
     "data": {
      "text/plain": [
       "kind     year\n",
       "actor    1900        2\n",
       "         1910       62\n",
       "         1920      210\n",
       "         1930      835\n",
       "         1940     1488\n",
       "         1950     1977\n",
       "         1960     2826\n",
       "         1970     5924\n",
       "         1980    16843\n",
       "         1990    60679\n",
       "         2000     4380\n",
       "         2010       53\n",
       "actress  1900        2\n",
       "         1910       37\n",
       "         1920      111\n",
       "         1930      324\n",
       "         1940      530\n",
       "         1950      753\n",
       "         1960     1132\n",
       "         1970     2135\n",
       "         1980     7024\n",
       "         1990    28654\n",
       "         2000     2340\n",
       "         2010       28\n",
       "dtype: int64"
      ]
     },
     "execution_count": 174,
     "metadata": {},
     "output_type": "execute_result"
    }
   ],
   "source": [
    "year_by_kind.stack()"
   ]
  },
  {
   "attachments": {},
   "cell_type": "markdown",
   "metadata": {},
   "source": [
    "As is the case with unstack, stack moves the column names into the innermost index. Default argument specifies which level of column name (yup, that's also a kind of index) to move into the index. There is no parameter to specify which level of index it is going to end up in, its always the innermost one. \n",
    "\n",
    "But fear not, we can always swap the levels of the indeces with `swaplevel`. "
   ]
  },
  {
   "cell_type": "code",
   "execution_count": 184,
   "metadata": {},
   "outputs": [
    {
     "data": {
      "text/plain": [
       "year  kind   \n",
       "1900  actor          2\n",
       "1910  actor         62\n",
       "1920  actor        210\n",
       "1930  actor        835\n",
       "1940  actor       1488\n",
       "1950  actor       1977\n",
       "1960  actor       2826\n",
       "1970  actor       5924\n",
       "1980  actor      16843\n",
       "1990  actor      60679\n",
       "2000  actor       4380\n",
       "2010  actor         53\n",
       "1900  actress        2\n",
       "1910  actress       37\n",
       "1920  actress      111\n",
       "1930  actress      324\n",
       "1940  actress      530\n",
       "1950  actress      753\n",
       "1960  actress     1132\n",
       "1970  actress     2135\n",
       "1980  actress     7024\n",
       "1990  actress    28654\n",
       "2000  actress     2340\n",
       "2010  actress       28\n",
       "dtype: int64"
      ]
     },
     "execution_count": 184,
     "metadata": {},
     "output_type": "execute_result"
    }
   ],
   "source": [
    "year_by_kind.stack().swaplevel(0, 1)"
   ]
  },
  {
   "attachments": {},
   "cell_type": "markdown",
   "metadata": {},
   "source": [
    "But-but-but... the indeces are now flat, there is no grouping... we need to re-sort:"
   ]
  },
  {
   "cell_type": "code",
   "execution_count": 185,
   "metadata": {},
   "outputs": [
    {
     "data": {
      "text/plain": [
       "year  kind   \n",
       "1900  actor          2\n",
       "      actress        2\n",
       "1910  actor         62\n",
       "      actress       37\n",
       "1920  actor        210\n",
       "      actress      111\n",
       "1930  actor        835\n",
       "      actress      324\n",
       "1940  actor       1488\n",
       "      actress      530\n",
       "1950  actor       1977\n",
       "      actress      753\n",
       "1960  actor       2826\n",
       "      actress     1132\n",
       "1970  actor       5924\n",
       "      actress     2135\n",
       "1980  actor      16843\n",
       "      actress     7024\n",
       "1990  actor      60679\n",
       "      actress    28654\n",
       "2000  actor       4380\n",
       "      actress     2340\n",
       "2010  actor         53\n",
       "      actress       28\n",
       "dtype: int64"
      ]
     },
     "execution_count": 185,
     "metadata": {},
     "output_type": "execute_result"
    }
   ],
   "source": [
    "year_by_kind.stack().swaplevel(0, 1).sort_index()"
   ]
  },
  {
   "attachments": {},
   "cell_type": "markdown",
   "metadata": {},
   "source": [
    "...much better now. To recap: \n",
    "\n",
    "`stack` moves column name __DOWN__ into the index\n",
    "![come down](https://media0.giphy.com/media/7OklPi77dA11WwPxnN/giphy.gif)\n",
    "\n",
    "`unstack` moves index __UP__ into column name\n",
    "![go up](https://media2.giphy.com/media/kfLIA5rPSEdYrGvWLw/giphy.gif)\n",
    "\n",
    "If there are no more indeces (or columns) after stacking / unstacking, we get a series. Otherwise a DataFrame"
   ]
  },
  {
   "attachments": {},
   "cell_type": "markdown",
   "metadata": {},
   "source": [
    "### Pivot vs Stack?\n",
    "`pivot` = `set_index` + `sort_index` + `unstack`\n",
    "\n",
    "![pivot](https://i.gifer.com/1XJe.gif)"
   ]
  },
  {
   "attachments": {},
   "cell_type": "markdown",
   "metadata": {},
   "source": [
    "# Exercice II.\n",
    "..."
   ]
  }
 ],
 "metadata": {
  "kernelspec": {
   "display_name": "Python 3",
   "language": "python",
   "name": "python3"
  },
  "language_info": {
   "codemirror_mode": {
    "name": "ipython",
    "version": 3
   },
   "file_extension": ".py",
   "mimetype": "text/x-python",
   "name": "python",
   "nbconvert_exporter": "python",
   "pygments_lexer": "ipython3",
   "version": "3.11.0a6"
  },
  "orig_nbformat": 4,
  "vscode": {
   "interpreter": {
    "hash": "74d926ecf60bfe329b17f098e0acdb0a9ab38c976c062ba8f1a666abf4340046"
   }
  }
 },
 "nbformat": 4,
 "nbformat_minor": 2
}
