{
 "cells": [
  {
   "cell_type": "code",
   "execution_count": 4,
   "metadata": {},
   "outputs": [
    {
     "name": "stdout",
     "output_type": "stream",
     "text": [
      "Collecting pandas\n",
      "  Downloading pandas-1.5.3-cp311-cp311-macosx_11_0_arm64.whl (10.8 MB)\n",
      "\u001b[K     |████████████████████████████████| 10.8 MB 4.9 MB/s eta 0:00:01\n",
      "\u001b[?25hCollecting numpy>=1.21.0\n",
      "  Downloading numpy-1.24.2-cp311-cp311-macosx_11_0_arm64.whl (13.8 MB)\n",
      "\u001b[K     |████████████████████████████████| 13.8 MB 16.3 MB/s eta 0:00:01\n",
      "\u001b[?25hCollecting pytz>=2020.1\n",
      "  Downloading pytz-2022.7.1-py2.py3-none-any.whl (499 kB)\n",
      "\u001b[K     |████████████████████████████████| 499 kB 15.1 MB/s eta 0:00:01\n",
      "\u001b[?25hRequirement already satisfied: python-dateutil>=2.8.1 in /Users/daniel_david_kovacs/.pyenv/versions/3.11.0a6/lib/python3.11/site-packages (from pandas) (2.8.2)\n",
      "Requirement already satisfied: six>=1.5 in /Users/daniel_david_kovacs/.pyenv/versions/3.11.0a6/lib/python3.11/site-packages (from python-dateutil>=2.8.1->pandas) (1.16.0)\n",
      "Installing collected packages: pytz, numpy, pandas\n",
      "Successfully installed numpy-1.24.2 pandas-1.5.3 pytz-2022.7.1\n",
      "\u001b[33mWARNING: You are using pip version 21.2.4; however, version 23.0.1 is available.\n",
      "You should consider upgrading via the '/Users/daniel_david_kovacs/.pyenv/versions/3.11.0a6/bin/python -m pip install --upgrade pip' command.\u001b[0m\n",
      "Note: you may need to restart the kernel to use updated packages.\n"
     ]
    }
   ],
   "source": [
    "%pip install pandas"
   ]
  },
  {
   "cell_type": "code",
   "execution_count": 6,
   "metadata": {},
   "outputs": [],
   "source": [
    "import os\n",
    "import re\n",
    "from typing import List\n",
    "\n",
    "def source_path(file_pattern: str) -> List[str]:\n",
    "    dir = os.path.join(\n",
    "        # os.path.dirname(__file__),\n",
    "        *[os.path.pardir] * 2,\n",
    "        'datasets',\n",
    "        'imdb_full'\n",
    "    )\n",
    "    source_files = [\n",
    "        os.path.abspath(os.path.join(dir, f)) \n",
    "        for f \n",
    "        in os.listdir(dir) \n",
    "        if re.match(file_pattern, f)]\n",
    "    return source_files"
   ]
  },
  {
   "cell_type": "code",
   "execution_count": 16,
   "metadata": {},
   "outputs": [
    {
     "data": {
      "text/html": [
       "<div>\n",
       "<style scoped>\n",
       "    .dataframe tbody tr th:only-of-type {\n",
       "        vertical-align: middle;\n",
       "    }\n",
       "\n",
       "    .dataframe tbody tr th {\n",
       "        vertical-align: top;\n",
       "    }\n",
       "\n",
       "    .dataframe thead th {\n",
       "        text-align: right;\n",
       "    }\n",
       "</style>\n",
       "<table border=\"1\" class=\"dataframe\">\n",
       "  <thead>\n",
       "    <tr style=\"text-align: right;\">\n",
       "      <th></th>\n",
       "      <th>title</th>\n",
       "      <th>year</th>\n",
       "    </tr>\n",
       "    <tr>\n",
       "      <th>movieid</th>\n",
       "      <th></th>\n",
       "      <th></th>\n",
       "    </tr>\n",
       "  </thead>\n",
       "  <tbody>\n",
       "    <tr>\n",
       "      <th>1672052</th>\n",
       "      <td>'Breaker' Morant (1980)</td>\n",
       "      <td>1980</td>\n",
       "    </tr>\n",
       "    <tr>\n",
       "      <th>1672111</th>\n",
       "      <td>'Crocodile' Dundee II (1988)</td>\n",
       "      <td>1988</td>\n",
       "    </tr>\n",
       "    <tr>\n",
       "      <th>1672580</th>\n",
       "      <td>'Til There Was You (1997)</td>\n",
       "      <td>1997</td>\n",
       "    </tr>\n",
       "    <tr>\n",
       "      <th>1672716</th>\n",
       "      <td>'night, Mother (1986)</td>\n",
       "      <td>1986</td>\n",
       "    </tr>\n",
       "    <tr>\n",
       "      <th>1672946</th>\n",
       "      <td>...And Justice for All (2014)</td>\n",
       "      <td>2014</td>\n",
       "    </tr>\n",
       "    <tr>\n",
       "      <th>...</th>\n",
       "      <td>...</td>\n",
       "      <td>...</td>\n",
       "    </tr>\n",
       "    <tr>\n",
       "      <th>2591814</th>\n",
       "      <td>eXistenZ (1999)</td>\n",
       "      <td>1999</td>\n",
       "    </tr>\n",
       "    <tr>\n",
       "      <th>2592334</th>\n",
       "      <td>¡Three Amigos! (1986)</td>\n",
       "      <td>1986</td>\n",
       "    </tr>\n",
       "    <tr>\n",
       "      <th>2592963</th>\n",
       "      <td>À nous la liberté (1931)</td>\n",
       "      <td>1931</td>\n",
       "    </tr>\n",
       "    <tr>\n",
       "      <th>2593112</th>\n",
       "      <td>Á köldum klaka (1995)</td>\n",
       "      <td>1995</td>\n",
       "    </tr>\n",
       "    <tr>\n",
       "      <th>2593313</th>\n",
       "      <td>Átame! (1990)</td>\n",
       "      <td>1990</td>\n",
       "    </tr>\n",
       "  </tbody>\n",
       "</table>\n",
       "<p>3832 rows × 2 columns</p>\n",
       "</div>"
      ],
      "text/plain": [
       "                                 title  year\n",
       "movieid                                     \n",
       "1672052        'Breaker' Morant (1980)  1980\n",
       "1672111   'Crocodile' Dundee II (1988)  1988\n",
       "1672580      'Til There Was You (1997)  1997\n",
       "1672716          'night, Mother (1986)  1986\n",
       "1672946  ...And Justice for All (2014)  2014\n",
       "...                                ...   ...\n",
       "2591814                eXistenZ (1999)  1999\n",
       "2592334          ¡Three Amigos! (1986)  1986\n",
       "2592963       À nous la liberté (1931)  1931\n",
       "2593112          Á köldum klaka (1995)  1995\n",
       "2593313                  Átame! (1990)  1990\n",
       "\n",
       "[3832 rows x 2 columns]"
      ]
     },
     "execution_count": 16,
     "metadata": {},
     "output_type": "execute_result"
    }
   ],
   "source": [
    "import pandas as pd\n",
    "\n",
    "with open(source_path(r\"movies_.*\\.csv\")[0]) as movies:\n",
    "    movies_df = pd.read_csv(movies)\n",
    "\n",
    "movies_df"
   ]
  },
  {
   "cell_type": "code",
   "execution_count": 17,
   "metadata": {},
   "outputs": [
    {
     "data": {
      "text/html": [
       "<div>\n",
       "<style scoped>\n",
       "    .dataframe tbody tr th:only-of-type {\n",
       "        vertical-align: middle;\n",
       "    }\n",
       "\n",
       "    .dataframe tbody tr th {\n",
       "        vertical-align: top;\n",
       "    }\n",
       "\n",
       "    .dataframe thead th {\n",
       "        text-align: right;\n",
       "    }\n",
       "</style>\n",
       "<table border=\"1\" class=\"dataframe\">\n",
       "  <thead>\n",
       "    <tr style=\"text-align: right;\">\n",
       "      <th></th>\n",
       "      <th>actorid</th>\n",
       "      <th>name</th>\n",
       "      <th>sex</th>\n",
       "    </tr>\n",
       "  </thead>\n",
       "  <tbody>\n",
       "    <tr>\n",
       "      <th>0</th>\n",
       "      <td>4</td>\n",
       "      <td>$hort, Too</td>\n",
       "      <td>M</td>\n",
       "    </tr>\n",
       "    <tr>\n",
       "      <th>1</th>\n",
       "      <td>16</td>\n",
       "      <td>'Bear'Boyd, Steven</td>\n",
       "      <td>M</td>\n",
       "    </tr>\n",
       "    <tr>\n",
       "      <th>2</th>\n",
       "      <td>28</td>\n",
       "      <td>'Dead End' Kids, The</td>\n",
       "      <td>M</td>\n",
       "    </tr>\n",
       "    <tr>\n",
       "      <th>3</th>\n",
       "      <td>566</td>\n",
       "      <td>Aaby, Kristian</td>\n",
       "      <td>M</td>\n",
       "    </tr>\n",
       "    <tr>\n",
       "      <th>4</th>\n",
       "      <td>580</td>\n",
       "      <td>Aadil</td>\n",
       "      <td>M</td>\n",
       "    </tr>\n",
       "    <tr>\n",
       "      <th>...</th>\n",
       "      <td>...</td>\n",
       "      <td>...</td>\n",
       "      <td>...</td>\n",
       "    </tr>\n",
       "    <tr>\n",
       "      <th>98685</th>\n",
       "      <td>2749162</td>\n",
       "      <td>Ôshima, Akiyo</td>\n",
       "      <td>F</td>\n",
       "    </tr>\n",
       "    <tr>\n",
       "      <th>98686</th>\n",
       "      <td>2749168</td>\n",
       "      <td>Ôshima, Yukari</td>\n",
       "      <td>F</td>\n",
       "    </tr>\n",
       "    <tr>\n",
       "      <th>98687</th>\n",
       "      <td>2749204</td>\n",
       "      <td>Ôtani, Ikue</td>\n",
       "      <td>F</td>\n",
       "    </tr>\n",
       "    <tr>\n",
       "      <th>98688</th>\n",
       "      <td>2749377</td>\n",
       "      <td>Örnólfsdóttir, Álfrún</td>\n",
       "      <td>F</td>\n",
       "    </tr>\n",
       "    <tr>\n",
       "      <th>98689</th>\n",
       "      <td>2749386</td>\n",
       "      <td>Öss, Eniko</td>\n",
       "      <td>F</td>\n",
       "    </tr>\n",
       "  </tbody>\n",
       "</table>\n",
       "<p>98690 rows × 3 columns</p>\n",
       "</div>"
      ],
      "text/plain": [
       "       actorid                   name sex\n",
       "0            4             $hort, Too   M\n",
       "1           16     'Bear'Boyd, Steven   M\n",
       "2           28   'Dead End' Kids, The   M\n",
       "3          566         Aaby, Kristian   M\n",
       "4          580                  Aadil   M\n",
       "...        ...                    ...  ..\n",
       "98685  2749162          Ôshima, Akiyo   F\n",
       "98686  2749168         Ôshima, Yukari   F\n",
       "98687  2749204            Ôtani, Ikue   F\n",
       "98688  2749377  Örnólfsdóttir, Álfrún   F\n",
       "98689  2749386             Öss, Eniko   F\n",
       "\n",
       "[98690 rows x 3 columns]"
      ]
     },
     "execution_count": 17,
     "metadata": {},
     "output_type": "execute_result"
    }
   ],
   "source": [
    "with open(source_path(r\"actors_.*\\.csv\")[0]) as actors:\n",
    "    actors_df = pd.read_csv(actors)\n",
    "\n",
    "actors_df"
   ]
  },
  {
   "cell_type": "code",
   "execution_count": 18,
   "metadata": {},
   "outputs": [
    {
     "data": {
      "text/html": [
       "<div>\n",
       "<style scoped>\n",
       "    .dataframe tbody tr th:only-of-type {\n",
       "        vertical-align: middle;\n",
       "    }\n",
       "\n",
       "    .dataframe tbody tr th {\n",
       "        vertical-align: top;\n",
       "    }\n",
       "\n",
       "    .dataframe thead th {\n",
       "        text-align: right;\n",
       "    }\n",
       "</style>\n",
       "<table border=\"1\" class=\"dataframe\">\n",
       "  <thead>\n",
       "    <tr style=\"text-align: right;\">\n",
       "      <th></th>\n",
       "      <th>movieid</th>\n",
       "      <th>actorid</th>\n",
       "      <th>as_character</th>\n",
       "      <th>leading</th>\n",
       "    </tr>\n",
       "  </thead>\n",
       "  <tbody>\n",
       "    <tr>\n",
       "      <th>0</th>\n",
       "      <td>1672052</td>\n",
       "      <td>88796</td>\n",
       "      <td>[Court reporter]  &lt;20&gt;</td>\n",
       "      <td>20</td>\n",
       "    </tr>\n",
       "    <tr>\n",
       "      <th>1</th>\n",
       "      <td>1672052</td>\n",
       "      <td>88848</td>\n",
       "      <td>[Col. Ian 'Johnny' Hamilton]  &lt;7&gt;</td>\n",
       "      <td>7</td>\n",
       "    </tr>\n",
       "    <tr>\n",
       "      <th>2</th>\n",
       "      <td>1672052</td>\n",
       "      <td>121878</td>\n",
       "      <td>[Lt. Reed]  &lt;21&gt;</td>\n",
       "      <td>21</td>\n",
       "    </tr>\n",
       "    <tr>\n",
       "      <th>3</th>\n",
       "      <td>1672052</td>\n",
       "      <td>134348</td>\n",
       "      <td>[Large Boer]  &lt;41&gt;</td>\n",
       "      <td>41</td>\n",
       "    </tr>\n",
       "    <tr>\n",
       "      <th>4</th>\n",
       "      <td>1672052</td>\n",
       "      <td>198682</td>\n",
       "      <td>[Lt. Peter Handcock]  &lt;4&gt;</td>\n",
       "      <td>4</td>\n",
       "    </tr>\n",
       "    <tr>\n",
       "      <th>...</th>\n",
       "      <td>...</td>\n",
       "      <td>...</td>\n",
       "      <td>...</td>\n",
       "      <td>...</td>\n",
       "    </tr>\n",
       "    <tr>\n",
       "      <th>138344</th>\n",
       "      <td>2593313</td>\n",
       "      <td>2439175</td>\n",
       "      <td>[Camello en Vespa]  &lt;6&gt;</td>\n",
       "      <td>6</td>\n",
       "    </tr>\n",
       "    <tr>\n",
       "      <th>138345</th>\n",
       "      <td>2593313</td>\n",
       "      <td>2486754</td>\n",
       "      <td>[Farmacéutica]  &lt;12&gt;</td>\n",
       "      <td>12</td>\n",
       "    </tr>\n",
       "    <tr>\n",
       "      <th>138346</th>\n",
       "      <td>2593313</td>\n",
       "      <td>2521993</td>\n",
       "      <td>[Periodista]  &lt;9&gt;</td>\n",
       "      <td>9</td>\n",
       "    </tr>\n",
       "    <tr>\n",
       "      <th>138347</th>\n",
       "      <td>2593313</td>\n",
       "      <td>2568546</td>\n",
       "      <td>[Alma]  &lt;4&gt;</td>\n",
       "      <td>4</td>\n",
       "    </tr>\n",
       "    <tr>\n",
       "      <th>138348</th>\n",
       "      <td>2593313</td>\n",
       "      <td>2633550</td>\n",
       "      <td>[Camello]  &lt;24&gt;</td>\n",
       "      <td>24</td>\n",
       "    </tr>\n",
       "  </tbody>\n",
       "</table>\n",
       "<p>138349 rows × 4 columns</p>\n",
       "</div>"
      ],
      "text/plain": [
       "        movieid  actorid                       as_character  leading\n",
       "0       1672052    88796             [Court reporter]  <20>       20\n",
       "1       1672052    88848  [Col. Ian 'Johnny' Hamilton]  <7>        7\n",
       "2       1672052   121878                   [Lt. Reed]  <21>       21\n",
       "3       1672052   134348                 [Large Boer]  <41>       41\n",
       "4       1672052   198682          [Lt. Peter Handcock]  <4>        4\n",
       "...         ...      ...                                ...      ...\n",
       "138344  2593313  2439175            [Camello en Vespa]  <6>        6\n",
       "138345  2593313  2486754               [Farmacéutica]  <12>       12\n",
       "138346  2593313  2521993                  [Periodista]  <9>        9\n",
       "138347  2593313  2568546                        [Alma]  <4>        4\n",
       "138348  2593313  2633550                    [Camello]  <24>       24\n",
       "\n",
       "[138349 rows x 4 columns]"
      ]
     },
     "execution_count": 18,
     "metadata": {},
     "output_type": "execute_result"
    }
   ],
   "source": [
    "with open(source_path(r\"movies2actors_.*\\.csv\")[0]) as movies_actors:\n",
    "    movies_actors_df = pd.read_csv(movies_actors)\n",
    "\n",
    "movies_actors_df"
   ]
  },
  {
   "cell_type": "code",
   "execution_count": 47,
   "metadata": {},
   "outputs": [
    {
     "data": {
      "text/html": [
       "<div>\n",
       "<style scoped>\n",
       "    .dataframe tbody tr th:only-of-type {\n",
       "        vertical-align: middle;\n",
       "    }\n",
       "\n",
       "    .dataframe tbody tr th {\n",
       "        vertical-align: top;\n",
       "    }\n",
       "\n",
       "    .dataframe thead th {\n",
       "        text-align: right;\n",
       "    }\n",
       "</style>\n",
       "<table border=\"1\" class=\"dataframe\">\n",
       "  <thead>\n",
       "    <tr style=\"text-align: right;\">\n",
       "      <th></th>\n",
       "      <th>movieid</th>\n",
       "      <th>rank</th>\n",
       "      <th>votes</th>\n",
       "      <th>distribution</th>\n",
       "    </tr>\n",
       "  </thead>\n",
       "  <tbody>\n",
       "    <tr>\n",
       "      <th>0</th>\n",
       "      <td>1672052</td>\n",
       "      <td>7.8</td>\n",
       "      <td>8111.0</td>\n",
       "      <td>0000001222</td>\n",
       "    </tr>\n",
       "    <tr>\n",
       "      <th>1</th>\n",
       "      <td>1672111</td>\n",
       "      <td>5.3</td>\n",
       "      <td>32183.0</td>\n",
       "      <td>0001221000</td>\n",
       "    </tr>\n",
       "    <tr>\n",
       "      <th>2</th>\n",
       "      <td>1672580</td>\n",
       "      <td>4.4</td>\n",
       "      <td>1894.0</td>\n",
       "      <td>0011110000</td>\n",
       "    </tr>\n",
       "    <tr>\n",
       "      <th>3</th>\n",
       "      <td>1672716</td>\n",
       "      <td>7.0</td>\n",
       "      <td>1255.0</td>\n",
       "      <td>0000001212</td>\n",
       "    </tr>\n",
       "    <tr>\n",
       "      <th>4</th>\n",
       "      <td>1673647</td>\n",
       "      <td>6.5</td>\n",
       "      <td>128.0</td>\n",
       "      <td>0000111211</td>\n",
       "    </tr>\n",
       "    <tr>\n",
       "      <th>...</th>\n",
       "      <td>...</td>\n",
       "      <td>...</td>\n",
       "      <td>...</td>\n",
       "      <td>...</td>\n",
       "    </tr>\n",
       "    <tr>\n",
       "      <th>3768</th>\n",
       "      <td>2591814</td>\n",
       "      <td>6.8</td>\n",
       "      <td>56563.0</td>\n",
       "      <td>0000012210</td>\n",
       "    </tr>\n",
       "    <tr>\n",
       "      <th>3769</th>\n",
       "      <td>2592334</td>\n",
       "      <td>6.2</td>\n",
       "      <td>36951.0</td>\n",
       "      <td>0000122100</td>\n",
       "    </tr>\n",
       "    <tr>\n",
       "      <th>3770</th>\n",
       "      <td>2592963</td>\n",
       "      <td>7.6</td>\n",
       "      <td>2294.0</td>\n",
       "      <td>0000002311</td>\n",
       "    </tr>\n",
       "    <tr>\n",
       "      <th>3771</th>\n",
       "      <td>2593112</td>\n",
       "      <td>6.9</td>\n",
       "      <td>1231.0</td>\n",
       "      <td>0000012211</td>\n",
       "    </tr>\n",
       "    <tr>\n",
       "      <th>3772</th>\n",
       "      <td>2593313</td>\n",
       "      <td>6.9</td>\n",
       "      <td>12087.0</td>\n",
       "      <td>0000013210</td>\n",
       "    </tr>\n",
       "  </tbody>\n",
       "</table>\n",
       "<p>3773 rows × 4 columns</p>\n",
       "</div>"
      ],
      "text/plain": [
       "      movieid  rank    votes distribution\n",
       "0     1672052   7.8   8111.0   0000001222\n",
       "1     1672111   5.3  32183.0   0001221000\n",
       "2     1672580   4.4   1894.0   0011110000\n",
       "3     1672716   7.0   1255.0   0000001212\n",
       "4     1673647   6.5    128.0   0000111211\n",
       "...       ...   ...      ...          ...\n",
       "3768  2591814   6.8  56563.0   0000012210\n",
       "3769  2592334   6.2  36951.0   0000122100\n",
       "3770  2592963   7.6   2294.0   0000002311\n",
       "3771  2593112   6.9   1231.0   0000012211\n",
       "3772  2593313   6.9  12087.0   0000013210\n",
       "\n",
       "[3773 rows x 4 columns]"
      ]
     },
     "execution_count": 47,
     "metadata": {},
     "output_type": "execute_result"
    }
   ],
   "source": [
    "with open(source_path(r\"ratings_.*\\.csv\")[0]) as ratings:\n",
    "    ratings_df = pd.read_csv(ratings)\n",
    "\n",
    "ratings_df"
   ]
  },
  {
   "attachments": {},
   "cell_type": "markdown",
   "metadata": {},
   "source": [
    "0. read in csv-s into pandas dataframes ☝️\n",
    "\n",
    "# Cheat Sheet\n",
    "from: https://github.com/brandon-rhodes/pycon-pandas-tutorial/blob/master/cheat-sheet.txt\n",
    "\n",
    "```\n",
    "1.\n",
    "len(df)       series + value    \tdf[df.c == value]\n",
    "df.head()     series + series2  \tdf[(df.c >= value) & (df.d < value)]\n",
    "df.tail()     series.notnull()  \tdf[(df.c < value) | (df.d != value)]\n",
    "df.COLUMN     series.isnull()   \tdf.sort_values('column')\n",
    "df['COLUMN']  series.sort_index()\tdf.sort_values(['column1', 'column2'])\n",
    "\n",
    "2.\n",
    "s.str.len()        s.value_counts()\n",
    "s.str.contains()   s.sort_index()       df[['column1', 'column2']]\n",
    "s.str.startswith() s.plot(...)          df.plot(x='a', y='b', kind='bar')\n",
    "\n",
    "3.\n",
    "df.set_index('a').sort_index()        df.loc['value']\n",
    "df.set_index(['a', 'b']).sort_index() df.loc[('v','u')]\n",
    "df.groupby('column')                  .size() .mean() .min() .max()\n",
    "df.groupby(['column1', 'column2'])    .agg(['min', 'max'])\n",
    "\n",
    "4.\n",
    "df.unstack()      s.dt.year       df.merge(df2, how='outer', ...)\n",
    "df.stack()        s.dt.month      df.rename(columns={'a': 'y', 'b': 'z'})\n",
    "df.fillna(value)  s.dt.day        pd.concat([df1, df2])\n",
    "s.fillna(value)   s.dt.dayofweek\n",
    "```\n"
   ]
  },
  {
   "attachments": {},
   "cell_type": "markdown",
   "metadata": {},
   "source": [
    "## How many movies in dataframe?"
   ]
  },
  {
   "cell_type": "code",
   "execution_count": 19,
   "metadata": {},
   "outputs": [
    {
     "name": "stdout",
     "output_type": "stream",
     "text": [
      "3832\n"
     ]
    }
   ],
   "source": [
    "print(\"Total number of movies: \", len(movies_df))"
   ]
  },
  {
   "attachments": {},
   "cell_type": "markdown",
   "metadata": {},
   "source": [
    "## What are the earliest two films?"
   ]
  },
  {
   "cell_type": "code",
   "execution_count": 28,
   "metadata": {},
   "outputs": [
    {
     "data": {
      "text/html": [
       "<div>\n",
       "<style scoped>\n",
       "    .dataframe tbody tr th:only-of-type {\n",
       "        vertical-align: middle;\n",
       "    }\n",
       "\n",
       "    .dataframe tbody tr th {\n",
       "        vertical-align: top;\n",
       "    }\n",
       "\n",
       "    .dataframe thead th {\n",
       "        text-align: right;\n",
       "    }\n",
       "</style>\n",
       "<table border=\"1\" class=\"dataframe\">\n",
       "  <thead>\n",
       "    <tr style=\"text-align: right;\">\n",
       "      <th></th>\n",
       "      <th>title</th>\n",
       "      <th>year</th>\n",
       "    </tr>\n",
       "    <tr>\n",
       "      <th>movieid</th>\n",
       "      <th></th>\n",
       "      <th></th>\n",
       "    </tr>\n",
       "  </thead>\n",
       "  <tbody>\n",
       "    <tr>\n",
       "      <th>2452309</th>\n",
       "      <td>The Lodger (1898)</td>\n",
       "      <td>1898</td>\n",
       "    </tr>\n",
       "    <tr>\n",
       "      <th>1677472</th>\n",
       "      <td>20,000 Leagues Under the Sea (1905)</td>\n",
       "      <td>1905</td>\n",
       "    </tr>\n",
       "  </tbody>\n",
       "</table>\n",
       "</div>"
      ],
      "text/plain": [
       "                                       title  year\n",
       "movieid                                           \n",
       "2452309                    The Lodger (1898)  1898\n",
       "1677472  20,000 Leagues Under the Sea (1905)  1905"
      ]
     },
     "execution_count": 28,
     "metadata": {},
     "output_type": "execute_result"
    }
   ],
   "source": [
    "movies_df.sort_values('year').head(2)"
   ]
  },
  {
   "attachments": {},
   "cell_type": "markdown",
   "metadata": {},
   "source": [
    "## How many movies have the title \"Hamlet\"?"
   ]
  },
  {
   "cell_type": "code",
   "execution_count": 30,
   "metadata": {},
   "outputs": [
    {
     "name": "stdout",
     "output_type": "stream",
     "text": [
      "Number of movies with 'Hamlet' in the title:  5\n"
     ]
    }
   ],
   "source": [
    "hamlets = movies_df[movies_df['title'].str.contains(\"Hamlet\")]\n",
    "print(\"Number of movies with 'Hamlet' in the title: \", len(hamlets))"
   ]
  },
  {
   "attachments": {},
   "cell_type": "markdown",
   "metadata": {},
   "source": [
    "## When was the first movie titled \"Hamlet\" made?"
   ]
  },
  {
   "cell_type": "code",
   "execution_count": 35,
   "metadata": {},
   "outputs": [
    {
     "data": {
      "text/html": [
       "<div>\n",
       "<style scoped>\n",
       "    .dataframe tbody tr th:only-of-type {\n",
       "        vertical-align: middle;\n",
       "    }\n",
       "\n",
       "    .dataframe tbody tr th {\n",
       "        vertical-align: top;\n",
       "    }\n",
       "\n",
       "    .dataframe thead th {\n",
       "        text-align: right;\n",
       "    }\n",
       "</style>\n",
       "<table border=\"1\" class=\"dataframe\">\n",
       "  <thead>\n",
       "    <tr style=\"text-align: right;\">\n",
       "      <th></th>\n",
       "      <th>title</th>\n",
       "      <th>year</th>\n",
       "    </tr>\n",
       "    <tr>\n",
       "      <th>movieid</th>\n",
       "      <th></th>\n",
       "      <th></th>\n",
       "    </tr>\n",
       "  </thead>\n",
       "  <tbody>\n",
       "    <tr>\n",
       "      <th>1984751</th>\n",
       "      <td>Hamlet (1907)</td>\n",
       "      <td>1907</td>\n",
       "    </tr>\n",
       "  </tbody>\n",
       "</table>\n",
       "</div>"
      ],
      "text/plain": [
       "                 title  year\n",
       "movieid                     \n",
       "1984751  Hamlet (1907)  1907"
      ]
     },
     "execution_count": 35,
     "metadata": {},
     "output_type": "execute_result"
    }
   ],
   "source": [
    "hamlets.sort_values('year').head(1)"
   ]
  },
  {
   "attachments": {},
   "cell_type": "markdown",
   "metadata": {},
   "source": [
    "## Number of movies made in 1981"
   ]
  },
  {
   "cell_type": "code",
   "execution_count": 39,
   "metadata": {},
   "outputs": [
    {
     "name": "stdout",
     "output_type": "stream",
     "text": [
      "Number of movies made in '81:  43\n"
     ]
    }
   ],
   "source": [
    "movies_81 = movies_df[movies_df[\"year\"] == 1981].sort_values('year')\n",
    "print(\"Number of movies made in '81: \", len(movies_81))"
   ]
  },
  {
   "attachments": {},
   "cell_type": "markdown",
   "metadata": {},
   "source": [
    "## Number of movies made between 1990 and 1995"
   ]
  },
  {
   "cell_type": "code",
   "execution_count": 41,
   "metadata": {},
   "outputs": [
    {
     "name": "stdout",
     "output_type": "stream",
     "text": [
      "Number of movies made '90–'95:  949\n"
     ]
    }
   ],
   "source": [
    "movies_90_95 = movies_df[(movies_df['year'] >= 1990) & (movies_df['year'] <= 1995)]\n",
    "print(\"Number of movies made '90–'95: \", len(movies_90_95))"
   ]
  },
  {
   "attachments": {},
   "cell_type": "markdown",
   "metadata": {},
   "source": [
    "## How many movie rankings without votes?"
   ]
  },
  {
   "cell_type": "code",
   "execution_count": 52,
   "metadata": {},
   "outputs": [
    {
     "data": {
      "text/html": [
       "<div>\n",
       "<style scoped>\n",
       "    .dataframe tbody tr th:only-of-type {\n",
       "        vertical-align: middle;\n",
       "    }\n",
       "\n",
       "    .dataframe tbody tr th {\n",
       "        vertical-align: top;\n",
       "    }\n",
       "\n",
       "    .dataframe thead th {\n",
       "        text-align: right;\n",
       "    }\n",
       "</style>\n",
       "<table border=\"1\" class=\"dataframe\">\n",
       "  <thead>\n",
       "    <tr style=\"text-align: right;\">\n",
       "      <th></th>\n",
       "      <th>movieid</th>\n",
       "      <th>rank</th>\n",
       "      <th>votes</th>\n",
       "      <th>distribution</th>\n",
       "    </tr>\n",
       "  </thead>\n",
       "  <tbody>\n",
       "    <tr>\n",
       "      <th>22</th>\n",
       "      <td>1682630</td>\n",
       "      <td>8.1</td>\n",
       "      <td>NaN</td>\n",
       "      <td>NaN</td>\n",
       "    </tr>\n",
       "    <tr>\n",
       "      <th>2291</th>\n",
       "      <td>2281612</td>\n",
       "      <td>4.4</td>\n",
       "      <td>NaN</td>\n",
       "      <td>NaN</td>\n",
       "    </tr>\n",
       "  </tbody>\n",
       "</table>\n",
       "</div>"
      ],
      "text/plain": [
       "      movieid  rank  votes distribution\n",
       "22    1682630   8.1    NaN          NaN\n",
       "2291  2281612   4.4    NaN          NaN"
      ]
     },
     "execution_count": 52,
     "metadata": {},
     "output_type": "execute_result"
    }
   ],
   "source": [
    "ratings_df[ratings_df['votes'].isna()]"
   ]
  },
  {
   "attachments": {},
   "cell_type": "markdown",
   "metadata": {},
   "source": [
    "## Display the roles, in leading order, of the 1972 film \"Solyaris\"."
   ]
  },
  {
   "cell_type": "code",
   "execution_count": 68,
   "metadata": {},
   "outputs": [
    {
     "data": {
      "text/plain": [
       "leading\n",
       "1                                           [Hari]  <1>\n",
       "2                                    [Kris Kelvin]  <2>\n",
       "3                                      [Dr. Snaut]  <3>\n",
       "4                                   [Henri Berton]  <4>\n",
       "5                                [Kelvin's Father]  <5>\n",
       "6                                  [Dr. Sartorius]  <6>\n",
       "7           (as O. Barnet)  [Kris Kelvin's Mother]  <7>\n",
       "8           (as V. Kerdimun)  [André Berton's son]  <8>\n",
       "9         (as O. Kizilova)  [Gibarian's she-guest]  <9>\n",
       "10                          [Kris Kelvin's niece]  <10>\n",
       "11    (as A. Misharin)  [Shannahan, Berton's expedit...\n",
       "12          (as B. Oganesyan)  [Professor Trajet]  <12>\n",
       "13                     [Anna, Kris Kelvin's aunt]  <13>\n",
       "14    (as S. Sarkisyan)  [Dr. Gibarian, a physiologi...\n",
       "15    (as Yu. Semyonov)  [Chairman of Investigation ...\n",
       "16            [Kris Kelvin in his early teen-age]  <16>\n",
       "17                               (as V. Sumenova)  <17>\n",
       "18           (as G. Tejkh)  [Professor Messenger]  <18>\n",
       "Name: as_character, dtype: object"
      ]
     },
     "execution_count": 68,
     "metadata": {},
     "output_type": "execute_result"
    }
   ],
   "source": [
    "# get movie id\n",
    "solaris_id = movies_df[movies_df['title'] == \"Solyaris (1972)\"].index.values[0]\n",
    "# find all the roles in solaris\n",
    "# NB! output is a series, not a table\n",
    "movies_actors_df[movies_actors_df['movieid'] == solaris_id].set_index('leading').sort_index()['as_character']\n",
    "# todo! merge the two tables"
   ]
  }
 ],
 "metadata": {
  "kernelspec": {
   "display_name": "Python 3",
   "language": "python",
   "name": "python3"
  },
  "language_info": {
   "codemirror_mode": {
    "name": "ipython",
    "version": 3
   },
   "file_extension": ".py",
   "mimetype": "text/x-python",
   "name": "python",
   "nbconvert_exporter": "python",
   "pygments_lexer": "ipython3",
   "version": "3.11.0a6"
  },
  "orig_nbformat": 4,
  "vscode": {
   "interpreter": {
    "hash": "74d926ecf60bfe329b17f098e0acdb0a9ab38c976c062ba8f1a666abf4340046"
   }
  }
 },
 "nbformat": 4,
 "nbformat_minor": 2
}
